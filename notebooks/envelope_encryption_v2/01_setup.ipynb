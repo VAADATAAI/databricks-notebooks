{
 "cells": [
  {
   "cell_type": "code",
   "execution_count": 0,
   "metadata": {
    "application/vnd.databricks.v1+cell": {
     "cellMetadata": {
      "byteLimit": 2048000,
      "rowLimit": 10000
     },
     "inputWidgets": {},
     "nuid": "ff9cd2a0-d6c6-4e68-9cde-50f00d48586d",
     "showTitle": false,
     "tableResultSettingsMap": {},
     "title": ""
    }
   },
   "outputs": [],
   "source": [
    "%pip install -r requirements.txt"
   ]
  },
  {
   "cell_type": "code",
   "execution_count": 0,
   "metadata": {
    "application/vnd.databricks.v1+cell": {
     "cellMetadata": {
      "byteLimit": 2048000,
      "rowLimit": 10000
     },
     "inputWidgets": {},
     "nuid": "45728807-f4b7-4b1c-afde-3c7e182cc859",
     "showTitle": false,
     "tableResultSettingsMap": {},
     "title": ""
    }
   },
   "outputs": [],
   "source": [
    "dbutils.widgets.dropdown(\"create_aws_secret\", defaultValue=\"True\", choices=[\"True\", \"False\"])\n",
    "dbutils.widgets.text(\"dek_name\", defaultValue=\"\")\n",
    "dbutils.widgets.text(\"region\", defaultValue=\"eu-west-1\")\n",
    "dbutils.widgets.text(\"secret_name\", defaultValue=\"\")\n",
    "dbutils.widgets.text(\"uc_service_credential\", defaultValue=\"\")"
   ]
  },
  {
   "cell_type": "code",
   "execution_count": 0,
   "metadata": {
    "application/vnd.databricks.v1+cell": {
     "cellMetadata": {
      "byteLimit": 2048000,
      "rowLimit": 10000
     },
     "inputWidgets": {},
     "nuid": "bba128fc-91e7-45ce-955e-37b7376cd29f",
     "showTitle": false,
     "tableResultSettingsMap": {},
     "title": ""
    }
   },
   "outputs": [],
   "source": [
    "crypto_functions = dbutils.import_notebook(\"notebooks.envelope_encryption_v2.common.crypto_functions\")\n",
    "\n",
    "kek = crypto_functions.generate_kek()\n",
    "dek = crypto_functions.generate_dek()\n",
    "encrypted_dek = crypto_functions.encrypt_with_kek(\n",
    "    kek_password=kek.get(\"kek_password\"), \n",
    "    kek_salt=kek.get(\"kek_salt\"), \n",
    "    to_encrypt=dek.get(\"private_key\"))\n",
    "encrypted_dek[\"dek\"] = encrypted_dek.get(\"encrypted_string\")\n",
    "del dek[\"private_key\"]\n",
    "del encrypted_dek[\"encrypted_string\"]\n",
    "secret = encrypted_dek | dek\n",
    "\n",
    "dek_name = dbutils.widgets.get(\"dek_name\")\n",
    "\n",
    "if dek_name != \"\":\n",
    "    updated_secret = {f\"{dek_name}_{k}\": v for k, v in secret.items()}\n",
    "    secret = updated_secret"
   ]
  },
  {
   "cell_type": "code",
   "execution_count": 0,
   "metadata": {
    "application/vnd.databricks.v1+cell": {
     "cellMetadata": {
      "byteLimit": 2048000,
      "rowLimit": 10000
     },
     "inputWidgets": {},
     "nuid": "cce5dfd6-2017-4a3d-916c-c41962a1e2bf",
     "showTitle": false,
     "tableResultSettingsMap": {},
     "title": ""
    }
   },
   "outputs": [],
   "source": [
    "import json \n",
    "import boto3\n",
    "\n",
    "if eval(dbutils.widgets.get(\"create_aws_secret\")):\n",
    "\n",
    "    secret_string = json.dumps(kek | secret)\n",
    "\n",
    "    boto3_session = boto3.Session(botocore_session=dbutils.credentials.getServiceCredentialsProvider(dbutils.widgets.get(\"uc_service_credential\")), region_name=dbutils.widgets.get(\"region\"))\n",
    "    secret = crypto_functions.create_aws_secret(\n",
    "        session=boto3_session, \n",
    "        secret_name=dbutils.widgets.get(\"secret_name\"), \n",
    "        secret_description=\"KEK and encrypted DEKs\", \n",
    "        secret_string=secret_string, \n",
    "        tags=[], \n",
    "        kms_key=\"alias/aws/secretsmanager\")\n",
    "    print(f\"Successfully created secret in AWS!\\nName: {secret.get('Name')}\\nARN: {secret.get('ARN')}\\nVersion: {secret.get('VersionId')}\")"
   ]
  },
  {
   "cell_type": "code",
   "execution_count": 0,
   "metadata": {
    "application/vnd.databricks.v1+cell": {
     "cellMetadata": {
      "byteLimit": 2048000,
      "implicitDf": true,
      "rowLimit": 10000
     },
     "inputWidgets": {},
     "nuid": "821ed145-f285-411d-b4b8-59c10eccdd27",
     "showTitle": false,
     "tableResultSettingsMap": {},
     "title": ""
    }
   },
   "outputs": [],
   "source": [
    "%sql\n",
    "SELECT current_catalog();\n",
    "CREATE SCHEMA IF NOT EXISTS crypto;\n",
    "USE SCHEMA crypto;"
   ]
  },
  {
   "cell_type": "code",
   "execution_count": 0,
   "metadata": {
    "application/vnd.databricks.v1+cell": {
     "cellMetadata": {
      "byteLimit": 2048000,
      "implicitDf": true,
      "rowLimit": 10000
     },
     "inputWidgets": {},
     "nuid": "7c997f7f-5e48-4479-90fb-698691ad983a",
     "showTitle": false,
     "tableResultSettingsMap": {},
     "title": ""
    }
   },
   "outputs": [],
   "source": [
    "%sql\n",
    "-- IMPORTANT!!! \n",
    "---> BEFORE RUNNING THIS STEP PLEASE UPDATE THE CREDENTIALS() SECTION TO REFERENCE YOUR uc_service_credential\n",
    "\n",
    "CREATE OR REPLACE FUNCTION unwrap_key(secret_name STRING, key_name STRING) \n",
    "RETURNS STRING\n",
    "LANGUAGE PYTHON\n",
    "PARAMETER STYLE PANDAS\n",
    "HANDLER 'batchhandler'\n",
    "CREDENTIALS (\n",
    "  `aweaver-secrets-manager` DEFAULT -- IMPORTANT! REPLACE THIS WITH YOUR UC SERVICE CREDENTIAL!!!\n",
    ")\n",
    "ENVIRONMENT (\n",
    "  dependencies = '[\"pycryptodome==3.22.0\"]',\n",
    "  environment_version = 'None'\n",
    ")\n",
    "AS $$\n",
    "import boto3\n",
    "from pyspark.taskcontext import TaskContext\n",
    "from botocore.exceptions import ClientError\n",
    "from Crypto.Cipher import AES\n",
    "from Crypto.Protocol.KDF import scrypt\n",
    "import base64\n",
    "from typing import Iterator, Tuple\n",
    "import json\n",
    "import pandas as pd\n",
    "\n",
    "def setup_session():\n",
    "\n",
    "  session = boto3.Session()\n",
    "  region = TaskContext.get().getLocalProperty(\"spark.databricks.clusterUsageTags.region\")\n",
    "  client = session.client(\"secretsmanager\", region_name=region)\n",
    "  return client\n",
    "\n",
    "def decrypt_with_kek(kek_password, kek_salt, dek, nonce, tag):\n",
    "\n",
    "  salt = base64.b64decode(kek_salt)\n",
    "  kek = scrypt(kek_password, salt, key_len=32, N=2**17, r=8, p=1)\n",
    "  cipher = AES.new(kek, AES.MODE_GCM, nonce=base64.b64decode(nonce))\n",
    "  decrypted = cipher.decrypt(base64.b64decode(dek))\n",
    "  try:\n",
    "    cipher.verify(base64.b64decode(tag))\n",
    "  except ValueError as e:\n",
    "    raise e\n",
    "  return decrypted.decode('utf-8')\n",
    "\n",
    "client = setup_session()\n",
    "\n",
    "def batchhandler(batch_iter: Iterator[Tuple[pd.Series, pd.Series]]) -> Iterator[pd.DataFrame]:\n",
    "\n",
    "  for s, d in batch_iter:\n",
    "\n",
    "    key_name = d[0]\n",
    "    try:\n",
    "      response = client.get_secret_value(SecretId=s[0])\n",
    "      secret = json.loads(response.get(\"SecretString\"))\n",
    "    except ClientError as e:\n",
    "      raise e\n",
    "    \n",
    "    secret[\"dek\"] = decrypt_with_kek(\n",
    "      kek_password=secret.get(\"kek_password\"), \n",
    "      kek_salt=secret.get(\"kek_salt\"), \n",
    "      dek=secret.get(f\"{key_name}_dek\"), \n",
    "      nonce=secret.get(f\"{key_name}_nonce\"),\n",
    "      tag=secret.get(f\"{key_name}_tag\"))\n",
    "    yield pd.Series(secret.get(\"dek\"))\n",
    "$$;"
   ]
  },
  {
   "cell_type": "code",
   "execution_count": 0,
   "metadata": {
    "application/vnd.databricks.v1+cell": {
     "cellMetadata": {
      "byteLimit": 2048000,
      "implicitDf": true,
      "rowLimit": 10000
     },
     "inputWidgets": {},
     "nuid": "7eb17ba9-4cd0-462b-b077-78661f280ff6",
     "showTitle": false,
     "tableResultSettingsMap": {},
     "title": ""
    }
   },
   "outputs": [],
   "source": [
    "%sql\n",
    "SELECT * FROM (SELECT unwrap_key('production/aweaver_catalog_1323553108280374/2026', 'titanic') AS dek)"
   ]
  },
  {
   "cell_type": "code",
   "execution_count": 0,
   "metadata": {
    "application/vnd.databricks.v1+cell": {
     "cellMetadata": {
      "byteLimit": 2048000,
      "rowLimit": 10000
     },
     "inputWidgets": {},
     "nuid": "58ba2db0-0c7c-45a5-99d0-2ef0d0fbb678",
     "showTitle": false,
     "tableResultSettingsMap": {},
     "title": ""
    }
   },
   "outputs": [],
   "source": [
    "x = crypto_functions.decrypt_with_kek(\n",
    "    kek_password=\"MfDrgFci3MjBYuCH4nUCx6KCwroQlZQGnlgCp1cSm/8=\", \n",
    "    kek_salt=\"Le/Ynd223+GtjjQkXRpGv9YcuyVvuDOfkcDPhAXihvU=\",\n",
    "    to_decrypt=\"WcKC7xSAD3ttKGS6LFoEci96IgjGdHd1IQJ5fgMByE8=\",\n",
    "    nonce=\"84gOtgTcVERh+xr/C7Bgtw==\",\n",
    "    tag=\"lyciABdt3Wcc2nohvi/9ag==\"\n",
    "    )\n",
    "x"
   ]
  },
  {
   "cell_type": "code",
   "execution_count": 0,
   "metadata": {
    "application/vnd.databricks.v1+cell": {
     "cellMetadata": {
      "byteLimit": 2048000,
      "implicitDf": true,
      "rowLimit": 10000
     },
     "inputWidgets": {},
     "nuid": "1053e0a7-121d-4d52-b9cc-d3487cb80228",
     "showTitle": false,
     "tableResultSettingsMap": {},
     "title": ""
    }
   },
   "outputs": [],
   "source": [
    "%sql\n",
    "SELECT unwrap_key(secret_name, key_name) AS deks\n",
    "FROM VALUES\n",
    "('production/aweaver_catalog_1323553108280374/2026', 'titanic')\n",
    "AS t(secret_name, key_name)"
   ]
  },
  {
   "cell_type": "code",
   "execution_count": 0,
   "metadata": {
    "application/vnd.databricks.v1+cell": {
     "cellMetadata": {
      "byteLimit": 2048000,
      "implicitDf": true,
      "rowLimit": 10000
     },
     "inputWidgets": {},
     "nuid": "68ca8849-4f1e-4315-8cfd-704c2d50e620",
     "showTitle": false,
     "tableResultSettingsMap": {},
     "title": ""
    }
   },
   "outputs": [],
   "source": [
    "%sql\n",
    "CREATE OR REPLACE FUNCTION encrypt(col STRING) \n",
    "RETURNS STRING\n",
    "RETURN \n",
    "    base64(aes_encrypt(\n",
    "        col, \n",
    "        (SELECT * FROM (SELECT unwrap_key('production/aweaver_catalog_1323553108280374/2026', 'titanic'))),\n",
    "        'GCM',  \n",
    "        'DEFAULT'\n",
    "    ))"
   ]
  },
  {
   "cell_type": "code",
   "execution_count": 0,
   "metadata": {
    "application/vnd.databricks.v1+cell": {
     "cellMetadata": {
      "byteLimit": 2048000,
      "implicitDf": true,
      "rowLimit": 10000
     },
     "inputWidgets": {},
     "nuid": "813c0d43-3bbf-4875-b99d-9b1867a90f42",
     "showTitle": false,
     "tableResultSettingsMap": {},
     "title": ""
    }
   },
   "outputs": [],
   "source": [
    "%sql\n",
    "CREATE OR REPLACE TABLE aweaver_catalog_1323553108280374.encrypted.titanic AS \n",
    "SELECT \n",
    "PassengerId,\n",
    "encrypt(Name) AS encrypted_name,\n",
    "encrypt(Sex) AS encrypted_sex,\n",
    "encrypt(Age) AS encrypted_age,\n",
    "* EXCEPT (PassengerId, Name, Sex, Age)\n",
    "FROM aweaver_catalog_1323553108280374.raw.titanic;"
   ]
  },
  {
   "cell_type": "code",
   "execution_count": 0,
   "metadata": {
    "application/vnd.databricks.v1+cell": {
     "cellMetadata": {
      "byteLimit": 2048000,
      "implicitDf": true,
      "rowLimit": 10000
     },
     "inputWidgets": {},
     "nuid": "07db8ae8-5519-4543-af43-44e204cbde62",
     "showTitle": false,
     "tableResultSettingsMap": {},
     "title": ""
    }
   },
   "outputs": [],
   "source": [
    "%sql\n",
    "SELECT * FROM aweaver_catalog_1323553108280374.encrypted.titanic"
   ]
  },
  {
   "cell_type": "code",
   "execution_count": 0,
   "metadata": {
    "application/vnd.databricks.v1+cell": {
     "cellMetadata": {
      "byteLimit": 2048000,
      "implicitDf": true,
      "rowLimit": 10000
     },
     "inputWidgets": {},
     "nuid": "8a4e069d-bd3f-404a-ac47-c8746986e1fa",
     "showTitle": false,
     "tableResultSettingsMap": {},
     "title": ""
    }
   },
   "outputs": [],
   "source": [
    "%sql\n",
    "CREATE OR REPLACE FUNCTION decrypt(col STRING) \n",
    "RETURNS STRING\n",
    "RETURN \n",
    "    CASE WHEN is_account_group_member('keyvault_user') THEN \n",
    "    nvl(CAST(try_aes_decrypt(unbase64(col), \n",
    "    (SELECT * FROM (SELECT unwrap_key('production/aweaver_catalog_1323553108280374/2026', 'titanic'))),\n",
    "    'GCM',  \n",
    "    'DEFAULT') AS STRING), \n",
    "    col)\n",
    "    ELSE col END"
   ]
  },
  {
   "cell_type": "code",
   "execution_count": 0,
   "metadata": {
    "application/vnd.databricks.v1+cell": {
     "cellMetadata": {
      "byteLimit": 2048000,
      "implicitDf": true,
      "rowLimit": 10000
     },
     "inputWidgets": {},
     "nuid": "1359724f-c31b-4f0f-91d0-7099bf969546",
     "showTitle": false,
     "tableResultSettingsMap": {},
     "title": ""
    }
   },
   "outputs": [],
   "source": [
    "%sql\n",
    "SELECT is_account_group_member('keyvault_user') AS keyvault_user"
   ]
  },
  {
   "cell_type": "code",
   "execution_count": 0,
   "metadata": {
    "application/vnd.databricks.v1+cell": {
     "cellMetadata": {
      "byteLimit": 2048000,
      "implicitDf": true,
      "rowLimit": 10000
     },
     "inputWidgets": {},
     "nuid": "363c743b-39b2-4233-b084-dc6feed5e7d5",
     "showTitle": false,
     "tableResultSettingsMap": {},
     "title": ""
    }
   },
   "outputs": [],
   "source": [
    "%sql\n",
    "SELECT \n",
    "decrypt(encrypted_name) AS decrypted_name,\n",
    "decrypt(encrypted_sex) AS decrypted_sex,\n",
    "decrypt(encrypted_age) AS decrypted_age,\n",
    "* \n",
    "FROM aweaver_catalog_1323553108280374.encrypted.titanic"
   ]
  }
 ],
 "metadata": {
  "application/vnd.databricks.v1+notebook": {
   "computePreferences": null,
   "dashboards": [],
   "environmentMetadata": {
    "base_environment": "",
    "environment_version": "2"
   },
   "inputWidgetPreferences": null,
   "language": "python",
   "notebookMetadata": {
    "mostRecentlyExecutedCommandWithImplicitDF": {
     "commandId": 6893300676726866,
     "dataframes": [
      "_sqldf"
     ]
    },
    "pythonIndentUnit": 4
   },
   "notebookName": "01_setup",
   "widgets": {
    "create_aws_secret": {
     "currentValue": "False",
     "nuid": "32eff87b-8be8-4748-9f67-1eb66b0b2745",
     "typedWidgetInfo": {
      "autoCreated": false,
      "defaultValue": "True",
      "label": null,
      "name": "create_aws_secret",
      "options": {
       "widgetDisplayType": "Dropdown",
       "choices": [
        "True",
        "False"
       ],
       "fixedDomain": true,
       "multiselect": false
      },
      "parameterDataType": "String"
     },
     "widgetInfo": {
      "widgetType": "dropdown",
      "defaultValue": "True",
      "label": null,
      "name": "create_aws_secret",
      "options": {
       "widgetType": "dropdown",
       "autoCreated": null,
       "choices": [
        "True",
        "False"
       ]
      }
     }
    },
    "dek_name": {
     "currentValue": "titanic",
     "nuid": "a6d010ca-658b-4760-aab1-439e41dd2c04",
     "typedWidgetInfo": {
      "autoCreated": false,
      "defaultValue": "",
      "label": null,
      "name": "dek_name",
      "options": {
       "widgetDisplayType": "Text",
       "validationRegex": null
      },
      "parameterDataType": "String"
     },
     "widgetInfo": {
      "widgetType": "text",
      "defaultValue": "",
      "label": null,
      "name": "dek_name",
      "options": {
       "widgetType": "text",
       "autoCreated": null,
       "validationRegex": null
      }
     }
    },
    "region": {
     "currentValue": "eu-west-1",
     "nuid": "503e2caf-f899-4d28-a5cd-cafcfb4a3243",
     "typedWidgetInfo": {
      "autoCreated": false,
      "defaultValue": "eu-west-1",
      "label": null,
      "name": "region",
      "options": {
       "widgetDisplayType": "Text",
       "validationRegex": null
      },
      "parameterDataType": "String"
     },
     "widgetInfo": {
      "widgetType": "text",
      "defaultValue": "eu-west-1",
      "label": null,
      "name": "region",
      "options": {
       "widgetType": "text",
       "autoCreated": null,
       "validationRegex": null
      }
     }
    },
    "secret_name": {
     "currentValue": "production/aweaver_catalog_1323553108280374/2026",
     "nuid": "f71997b9-0105-4323-af42-aad6f84a6bca",
     "typedWidgetInfo": {
      "autoCreated": false,
      "defaultValue": "",
      "label": null,
      "name": "secret_name",
      "options": {
       "widgetDisplayType": "Text",
       "validationRegex": null
      },
      "parameterDataType": "String"
     },
     "widgetInfo": {
      "widgetType": "text",
      "defaultValue": "",
      "label": null,
      "name": "secret_name",
      "options": {
       "widgetType": "text",
       "autoCreated": null,
       "validationRegex": null
      }
     }
    },
    "uc_service_credential": {
     "currentValue": "aweaver-secrets-manager",
     "nuid": "d811bfe1-e5e9-46f0-be15-af877e20f63d",
     "typedWidgetInfo": {
      "autoCreated": false,
      "defaultValue": "",
      "label": null,
      "name": "uc_service_credential",
      "options": {
       "widgetDisplayType": "Text",
       "validationRegex": null
      },
      "parameterDataType": "String"
     },
     "widgetInfo": {
      "widgetType": "text",
      "defaultValue": "",
      "label": null,
      "name": "uc_service_credential",
      "options": {
       "widgetType": "text",
       "autoCreated": null,
       "validationRegex": null
      }
     }
    }
   }
  },
  "language_info": {
   "name": "python"
  }
 },
 "nbformat": 4,
 "nbformat_minor": 0
}
