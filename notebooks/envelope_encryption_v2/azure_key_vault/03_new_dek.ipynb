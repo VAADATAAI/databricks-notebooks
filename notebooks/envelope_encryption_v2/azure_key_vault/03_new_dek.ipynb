{
 "cells": [
  {
   "cell_type": "markdown",
   "metadata": {},
   "source": "# Generate a New Data Encryption Key"
  },
  {
   "cell_type": "code",
   "metadata": {},
   "execution_count": 0,
   "outputs": [],
   "source": [
    "import os\n",
    "new_dek = os.urandom(32)\n",
    "display({'length': len(new_dek)})\n"
   ]
  }
 ],
 "metadata": {
  "language_info": {
   "name": "python"
  },
  "orig_nbformat": 4
 },
 "nbformat": 4,
 "nbformat_minor": 0
}
