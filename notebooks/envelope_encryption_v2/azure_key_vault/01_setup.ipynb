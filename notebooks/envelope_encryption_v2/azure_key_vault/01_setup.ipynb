{
  "cells": [
    {
      "cell_type": "markdown",
      "metadata": {},
      "source": "# Azure Key Vault Setup"
    },
    {
      "cell_type": "markdown",
      "metadata": {},
      "source": "Configure the Key Encryption Key (KEK) in Azure Key Vault."
    },
    {
      "cell_type": "code",
      "metadata": {},
      "execution_count": 0,
      "outputs": [],
      "source": [
        "dbutils.widgets.text('key_vault_url', '')\n",
        "dbutils.widgets.text('key_name', 'uc-demo-kek')\n",
        "\n",
        "from azure.identity import DefaultAzureCredential\n",
        "from notebooks.envelope_encryption_v2.common import azure_crypto_functions as az_crypto\n",
        "\n",
        "credential = DefaultAzureCredential()\n",
        "key_vault_url = dbutils.widgets.get('key_vault_url')\n",
        "key_name = dbutils.widgets.get('key_name')\n",
        "az_crypto.create_keyvault_key(key_vault_url, key_name, credential)\n"
      ]
    },
    {
      "cell_type": "markdown",
      "metadata": {},
      "source": "## Create key table"
    },
    {
      "cell_type": "code",
      "metadata": {},
      "execution_count": 0,
      "outputs": [],
      "source": [
        "%sql\n",
        "CREATE TABLE IF NOT EXISTS crypto.keyvault (\n",
        "  key_alias STRING,\n",
        "  key_version INT,\n",
        "  key BINARY,\n",
        "  vault_url STRING,\n",
        "  key_name STRING,\n",
        "  key_enabled BOOLEAN);\n"
      ]
    },
    {
      "cell_type": "markdown",
      "metadata": {},
      "source": "## Define encryption functions"
    },
    {
      "cell_type": "code",
      "metadata": {},
      "execution_count": 0,
      "outputs": [],
      "source": [
        "%sql\n",
        "USE SCHEMA crypto;\n",
        "CREATE OR REPLACE FUNCTION crypto.unwrap_key(vault_url STRING, key_name STRING, encrypted_dek BINARY)\n",
        "RETURNS BINARY\n",
        "LANGUAGE PYTHON\n",
        "PARAMETER STYLE SCALAR\n",
        "HANDLER 'notebooks.envelope_encryption_v2.common.azure_crypto_functions.unwrap_data_key'\n",
        "CREDENTIALS (`<uc_service_credential>` DEFAULT);\n",
        "\n",
        "CREATE OR REPLACE FUNCTION crypto.encrypt(col STRING, catalog STRING, schema STRING)\n",
        "RETURNS STRING\n",
        "RETURN base64(aes_encrypt(col,\n",
        "    (SELECT crypto.unwrap_key(vault_url, key_name, key) FROM crypto.keyvault \n",
        "     WHERE key_alias = CONCAT(catalog, '.', schema) AND key_enabled = true \n",
        "     ORDER BY key_version DESC LIMIT 1),\n",
        "    'GCM','DEFAULT'));\n",
        "\n",
        "CREATE OR REPLACE FUNCTION crypto.decrypt(col STRING, catalog STRING, schema STRING)\n",
        "RETURNS STRING\n",
        "RETURN CASE WHEN is_account_group_member(CONCAT(catalog, '.', schema, '.crypto.user')) THEN\n",
        "  nvl(CAST(try_aes_decrypt(unbase64(col),\n",
        "      (SELECT crypto.unwrap_key(vault_url, key_name, key) FROM crypto.keyvault \n",
        "       WHERE key_alias = CONCAT(catalog, '.', schema) AND key_enabled = true \n",
        "       ORDER BY key_version DESC LIMIT 1),\n",
        "      'GCM','DEFAULT') AS STRING), col)\n",
        "ELSE col END;\n"
      ]
    }
  ],
  "metadata": {
    "language_info": {
      "name": "python"
    },
    "orig_nbformat": 4
  },
  "nbformat": 4,
  "nbformat_minor": 0
}
