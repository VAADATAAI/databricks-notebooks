{
 "cells": [
  {
   "cell_type": "markdown",
   "metadata": {},
   "source": "# Encrypt and Decrypt with Azure Key Vault"
  },
  {
   "cell_type": "code",
   "metadata": {},
   "execution_count": 0,
   "outputs": [],
   "source": [
    "dbutils.widgets.text('key_vault_url', '')\n",
    "dbutils.widgets.text('key_name', 'uc-demo-kek')\n",
    "\n",
    "from azure.identity import DefaultAzureCredential\n",
    "from notebooks.envelope_encryption_v2.common import azure_crypto_functions as az_crypto\n",
    "import os\n",
    "\n",
    "credential = DefaultAzureCredential()\n",
    "key_vault_url = dbutils.widgets.get('key_vault_url')\n",
    "key_name = dbutils.widgets.get('key_name')\n",
    "\n",
    "plain_dek = os.urandom(32)\n",
    "wrapped_dek = az_crypto.wrap_data_key(key_vault_url, key_name, plain_dek, credential)\n",
    "unwrapped_dek = az_crypto.unwrap_data_key(key_vault_url, key_name, wrapped_dek, credential)\n",
    "assert plain_dek == unwrapped_dek\n"
   ]
  }
 ],
 "metadata": {
  "language_info": {
   "name": "python"
  },
  "orig_nbformat": 4
 },
 "nbformat": 4,
 "nbformat_minor": 0
}
