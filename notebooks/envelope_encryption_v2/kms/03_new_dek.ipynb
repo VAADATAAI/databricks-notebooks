{
 "cells": [
  {
   "cell_type": "code",
   "execution_count": 0,
   "metadata": {
    "application/vnd.databricks.v1+cell": {
     "cellMetadata": {
      "byteLimit": 2048000,
      "rowLimit": 10000
     },
     "inputWidgets": {},
     "nuid": "9248a21c-7517-43a6-81b7-90245f5d3887",
     "showTitle": false,
     "tableResultSettingsMap": {},
     "title": ""
    }
   },
   "outputs": [],
   "source": [
    "%pip install -r ../requirements.txt"
   ]
  },
  {
   "cell_type": "code",
   "execution_count": 0,
   "metadata": {
    "application/vnd.databricks.v1+cell": {
     "cellMetadata": {
      "byteLimit": 2048000,
      "rowLimit": 10000
     },
     "inputWidgets": {},
     "nuid": "ce0966c2-9f19-4ef9-8426-92ffdd2bef4e",
     "showTitle": false,
     "tableResultSettingsMap": {},
     "title": ""
    }
   },
   "outputs": [],
   "source": [
    "\n",
    "dbutils.widgets.text(\"metastore_id\", defaultValue=sql(\"SELECT element_at(split(current_metastore(), ':'), -1) AS metastore\").first().metastore)\n",
    "dbutils.widgets.text(\"catalog\", defaultValue=\"production\")\n",
    "dbutils.widgets.text(\"new_schema\", defaultValue=\"finance\")\n",
    "dbutils.widgets.text(\"region\", defaultValue=\"eu-west-1\")\n",
    "dbutils.widgets.text(\"uc_service_credential\", defaultValue=\"production-aws-kms\")\n",
    "\n",
    "metastore_id = dbutils.widgets.get(\"metastore_id\")\n",
    "catalog = dbutils.widgets.get(\"catalog\")\n",
    "region = dbutils.widgets.get(\"region\")\n",
    "new_schema = dbutils.widgets.get(\"new_schema\")\n",
    "service_credential = dbutils.widgets.get(\"uc_service_credential\")"
   ]
  },
  {
   "cell_type": "code",
   "execution_count": 0,
   "metadata": {
    "application/vnd.databricks.v1+cell": {
     "cellMetadata": {
      "byteLimit": 2048000,
      "rowLimit": 10000
     },
     "inputWidgets": {},
     "nuid": "875c34b5-0009-4446-9f5d-1e35a7759774",
     "showTitle": false,
     "tableResultSettingsMap": {},
     "title": ""
    }
   },
   "outputs": [],
   "source": [
    "import boto3\n",
    "\n",
    "crypto_functions = dbutils.import_notebook(\"notebooks.envelope_encryption_v2.common.crypto_functions\")\n",
    "\n",
    "session = boto3.Session(botocore_session=dbutils.credentials.getServiceCredentialsProvider(service_credential), region_name=region)\n",
    "\n",
    "key_alias = f\"alias/unity_catalog/{metastore_id}/{catalog}/cmk\""
   ]
  },
  {
   "cell_type": "code",
   "execution_count": 0,
   "metadata": {
    "application/vnd.databricks.v1+cell": {
     "cellMetadata": {
      "byteLimit": 2048000,
      "implicitDf": true,
      "rowLimit": 10000
     },
     "inputWidgets": {},
     "nuid": "33542aa2-4888-4762-81ca-b7898afe041d",
     "showTitle": false,
     "tableResultSettingsMap": {},
     "title": ""
    }
   },
   "outputs": [],
   "source": [
    "%sql\n",
    "USE CATALOG IDENTIFIER(:catalog)"
   ]
  },
  {
   "cell_type": "code",
   "execution_count": 0,
   "metadata": {
    "application/vnd.databricks.v1+cell": {
     "cellMetadata": {
      "byteLimit": 2048000,
      "rowLimit": 10000
     },
     "inputWidgets": {},
     "nuid": "2a156c4e-90e6-465d-bbec-e1b538cd725f",
     "showTitle": false,
     "tableResultSettingsMap": {},
     "title": ""
    }
   },
   "outputs": [],
   "source": [
    "from databricks.sdk import WorkspaceClient\n",
    "from pyspark.sql.types import StructType, StructField, IntegerType, DateType, TimestampType, StringType, BooleanType, BinaryType\n",
    "from datetime import datetime\n",
    "from datetime import date\n",
    "\n",
    "ws = WorkspaceClient()\n",
    "\n",
    "dek = crypto_functions.generate_data_key(session=session, key_alias=key_alias, encryption_context={\"metastore/catalog\": f\"{metastore_id}/{catalog}\"}).get(\"CiphertextBlob\")\n",
    "\n",
    "keyvault_schema = StructType([\n",
    "    StructField(\"id\", IntegerType(), False),\n",
    "    StructField(\"created_date\", DateType(), False),\n",
    "    StructField(\"created_time\", TimestampType(), False),\n",
    "    StructField(\"last_modified_time\", TimestampType(), False),\n",
    "    StructField(\"created_by\", StringType(), False),\n",
    "    StructField(\"managed_by\", StringType(), False),\n",
    "    StructField(\"key_alias\", StringType(), False),\n",
    "    StructField(\"key_enabled\", BooleanType(), False),\n",
    "    StructField(\"key_version\", IntegerType(), True),\n",
    "    StructField(\"key_type\", StringType(), False),\n",
    "    StructField(\"key\", BinaryType(), False)\n",
    "])\n",
    "\n",
    "next_id =sql(\"SELECT (MAX(id)) +1 AS next_id FROM crypto.keyvault\").first().next_id\n",
    "\n",
    "alias = f\"{catalog}.{new_schema}\"\n",
    "\n",
    "key_version = sql(f\"SELECT MAX(key_version) AS max_version FROM crypto.keyvault WHERE key_alias = '{alias}'\").first().max_version\n",
    "\n",
    "if not key_version:\n",
    "  key_version = 1\n",
    "else:\n",
    "  key_version += 1\n",
    "\n",
    "keyvault_data = [{\"id\": next_id, \"created_date\": date.today(), \"created_time\": datetime.now(), \"last_modified_time\": datetime.now(), \"created_by\": ws.current_user.me().user_name, \"managed_by\": ws.current_user.me().user_name, \"key_enabled\": True, \"key_version\": key_version, \"key_type\": \"ENCRYPTED_DEK\", \"key_alias\": alias, \"key\": dek}]\n",
    "\n",
    "df = spark.createDataFrame(keyvault_data, keyvault_schema)\n",
    "display(df)"
   ]
  },
  {
   "cell_type": "markdown",
   "metadata": {
    "application/vnd.databricks.v1+cell": {
     "cellMetadata": {},
     "inputWidgets": {},
     "nuid": "e01a3733-0e4a-433f-a535-4ffb2d66595d",
     "showTitle": false,
     "tableResultSettingsMap": {},
     "title": ""
    }
   },
   "source": [
    "### Todo\n",
    "* Change get_encrypted_dek() to optionally take a key_version or automatically select the latest\n",
    "* Revise the keyvault creation / new key code to merge into\n",
    "* Add RLF to keyvault?\n",
    "* Can any of the functions be optimized?\n",
    "* Test serverless SQL with SEG - allow pypi\n",
    "* Test classic with PL\n",
    "* Automatically provision / add to groups"
   ]
  }
 ],
 "metadata": {
  "application/vnd.databricks.v1+notebook": {
   "computePreferences": null,
   "dashboards": [],
   "environmentMetadata": {
    "base_environment": "",
    "environment_version": "2"
   },
   "inputWidgetPreferences": null,
   "language": "python",
   "notebookMetadata": {
    "mostRecentlyExecutedCommandWithImplicitDF": {
     "commandId": 8206097108577430,
     "dataframes": [
      "_sqldf"
     ]
    },
    "pythonIndentUnit": 4
   },
   "notebookName": "03_new_dek",
   "widgets": {
    "catalog": {
     "currentValue": "production",
     "nuid": "e8d1f131-be20-4047-852f-75399ed4202d",
     "typedWidgetInfo": {
      "autoCreated": false,
      "defaultValue": "production",
      "label": null,
      "name": "catalog",
      "options": {
       "widgetDisplayType": "Text",
       "validationRegex": null
      },
      "parameterDataType": "String"
     },
     "widgetInfo": {
      "widgetType": "text",
      "defaultValue": "production",
      "label": null,
      "name": "catalog",
      "options": {
       "widgetType": "text",
       "autoCreated": null,
       "validationRegex": null
      }
     }
    },
    "metastore_id": {
     "currentValue": "9ae0a551-8fd1-423d-9265-dcf04b25cb09",
     "nuid": "e4261bf9-7e07-469c-a05f-833b467c9185",
     "typedWidgetInfo": {
      "autoCreated": false,
      "defaultValue": "9ae0a551-8fd1-423d-9265-dcf04b25cb09",
      "label": null,
      "name": "metastore_id",
      "options": {
       "widgetDisplayType": "Text",
       "validationRegex": null
      },
      "parameterDataType": "String"
     },
     "widgetInfo": {
      "widgetType": "text",
      "defaultValue": "9ae0a551-8fd1-423d-9265-dcf04b25cb09",
      "label": null,
      "name": "metastore_id",
      "options": {
       "widgetType": "text",
       "autoCreated": null,
       "validationRegex": null
      }
     }
    },
    "new_schema": {
     "currentValue": "finance",
     "nuid": "d66de27d-884f-45f5-919f-86070fcf7890",
     "typedWidgetInfo": {
      "autoCreated": false,
      "defaultValue": "finance",
      "label": null,
      "name": "new_schema",
      "options": {
       "widgetDisplayType": "Text",
       "validationRegex": null
      },
      "parameterDataType": "String"
     },
     "widgetInfo": {
      "widgetType": "text",
      "defaultValue": "finance",
      "label": null,
      "name": "new_schema",
      "options": {
       "widgetType": "text",
       "autoCreated": null,
       "validationRegex": null
      }
     }
    },
    "region": {
     "currentValue": "eu-west-1",
     "nuid": "8627dc49-81fb-498d-a0e2-e7a1883aa3d5",
     "typedWidgetInfo": {
      "autoCreated": false,
      "defaultValue": "eu-west-1",
      "label": null,
      "name": "region",
      "options": {
       "widgetDisplayType": "Text",
       "validationRegex": null
      },
      "parameterDataType": "String"
     },
     "widgetInfo": {
      "widgetType": "text",
      "defaultValue": "eu-west-1",
      "label": null,
      "name": "region",
      "options": {
       "widgetType": "text",
       "autoCreated": null,
       "validationRegex": null
      }
     }
    },
    "uc_service_credential": {
     "currentValue": "production-aws-kms",
     "nuid": "b6cdd5c1-e8fc-4aaf-a353-94924f637e29",
     "typedWidgetInfo": {
      "autoCreated": false,
      "defaultValue": "production-aws-kms",
      "label": null,
      "name": "uc_service_credential",
      "options": {
       "widgetDisplayType": "Text",
       "validationRegex": null
      },
      "parameterDataType": "String"
     },
     "widgetInfo": {
      "widgetType": "text",
      "defaultValue": "production-aws-kms",
      "label": null,
      "name": "uc_service_credential",
      "options": {
       "widgetType": "text",
       "autoCreated": null,
       "validationRegex": null
      }
     }
    }
   }
  },
  "language_info": {
   "name": "python"
  }
 },
 "nbformat": 4,
 "nbformat_minor": 0
}
