{
 "cells": [
  {
   "cell_type": "code",
   "execution_count": 0,
   "metadata": {
    "application/vnd.databricks.v1+cell": {
     "cellMetadata": {
      "byteLimit": 2048000,
      "rowLimit": 10000
     },
     "inputWidgets": {},
     "nuid": "651047d8-9563-407c-a465-878b220617da",
     "showTitle": false,
     "tableResultSettingsMap": {},
     "title": ""
    }
   },
   "outputs": [],
   "source": [
    "dbutils.widgets.dropdown(\"aws_cmk_creation\", defaultValue=\"True\", choices=[\"True\", \"False\"])\n",
    "dbutils.widgets.text(\"schema\", defaultValue=\"marketing\")\n",
    "dbutils.widgets.text(\"region\", defaultValue=\"eu-west-1\")\n",
    "dbutils.widgets.text(\"catalog\", defaultValue=\"production\")\n",
    "dbutils.widgets.text(\"uc_service_credential\", defaultValue=\"production-aws-kms\")\n",
    "\n",
    "metastore_id = sql(\"SELECT element_at(split(current_metastore(), ':'), -1) AS metastore\").first().metastore\n",
    "catalog = dbutils.widgets.get(\"catalog\")\n",
    "region = dbutils.widgets.get(\"region\")\n",
    "schema = dbutils.widgets.get(\"schema\")\n",
    "service_credential = dbutils.widgets.get(\"uc_service_credential\")"
   ]
  },
  {
   "cell_type": "markdown",
   "metadata": {
    "application/vnd.databricks.v1+cell": {
     "cellMetadata": {},
     "inputWidgets": {},
     "nuid": "4a3bed26-68ed-42a8-8d2b-e62a2e70d259",
     "showTitle": false,
     "tableResultSettingsMap": {},
     "title": ""
    }
   },
   "source": [
    "## Step 1\n",
    "* Download the titanic dataset and store it in a UC volume for raw files. \n",
    "* We'll use this to simulate a dataset that contains PII (Name, Age, Sex)"
   ]
  },
  {
   "cell_type": "code",
   "execution_count": 0,
   "metadata": {
    "application/vnd.databricks.v1+cell": {
     "cellMetadata": {
      "byteLimit": 2048000,
      "implicitDf": true,
      "rowLimit": 10000
     },
     "inputWidgets": {},
     "nuid": "10104cbe-d5ff-4455-af01-ce8672f5f04d",
     "showTitle": false,
     "tableResultSettingsMap": {},
     "title": ""
    }
   },
   "outputs": [],
   "source": [
    "%sql\n",
    "USE CATALOG IDENTIFIER(:catalog);\n",
    "CREATE SCHEMA IF NOT EXISTS IDENTIFIER(concat(:catalog, '.', :schema));\n",
    "CREATE VOLUME IF NOT EXISTS IDENTIFIER(concat(:catalog, '.', :schema, '.raw_files'));"
   ]
  },
  {
   "cell_type": "code",
   "execution_count": 0,
   "metadata": {
    "application/vnd.databricks.v1+cell": {
     "cellMetadata": {
      "byteLimit": 2048000,
      "rowLimit": 10000
     },
     "inputWidgets": {},
     "nuid": "16a22a77-d25b-430c-af08-8b2ee3cb9a79",
     "showTitle": false,
     "tableResultSettingsMap": {},
     "title": ""
    }
   },
   "outputs": [],
   "source": [
    "import subprocess\n",
    "\n",
    "file_url = \"https://raw.githubusercontent.com/datasciencedojo/datasets/master/titanic.csv\"\n",
    "volume_path = f\"/Volumes/{catalog}/{schema}/raw_files/titanic.csv\"\n",
    "\n",
    "subprocess.run([\"wget\", file_url, \"-O\", volume_path], check=True)\n",
    "display(dbutils.fs.ls(f\"/Volumes/{catalog}/{schema}/raw_files/\"))"
   ]
  },
  {
   "cell_type": "markdown",
   "metadata": {
    "application/vnd.databricks.v1+cell": {
     "cellMetadata": {},
     "inputWidgets": {},
     "nuid": "94e964d6-8027-4abb-a7e8-ffecad7cadd9",
     "showTitle": false,
     "tableResultSettingsMap": {},
     "title": ""
    }
   },
   "source": [
    "## Step 2\n",
    "* Create an AWS KMS key to generate our DEKs\n",
    "* In order for this to work your UC service credential will need the following privileges: `\"kms:CreateKey\", \"kms:CreateAlias\"`\n",
    "* You can optionally create your KMS key manually, via your own scripts or via IaaC such as Terraform\n",
    "\n",
    "> ### IMPORTANT: \n",
    "The key created via this function is largely intended to be used for demonstration purposes. Please review the Key policy and other security related configurations when creating your actual keys"
   ]
  },
  {
   "cell_type": "code",
   "execution_count": 0,
   "metadata": {
    "application/vnd.databricks.v1+cell": {
     "cellMetadata": {
      "byteLimit": 2048000,
      "rowLimit": 10000
     },
     "inputWidgets": {},
     "nuid": "fc93c634-f734-49ee-9713-fc8ab1ef538c",
     "showTitle": false,
     "tableResultSettingsMap": {},
     "title": ""
    }
   },
   "outputs": [],
   "source": [
    "import boto3\n",
    "\n",
    "crypto_functions = dbutils.import_notebook(\"notebooks.envelope_encryption_v2.common.crypto_functions\")\n",
    "\n",
    "session = boto3.Session(botocore_session=dbutils.credentials.getServiceCredentialsProvider(service_credential), region_name=region)\n",
    "\n",
    "key_alias = f\"alias/unity_catalog/{metastore_id}/{catalog}/4\"\n",
    "\n",
    "if eval(dbutils.widgets.get(\"aws_cmk_creation\")):\n",
    "    kms = crypto_functions.create_kms_key(session=session, alias=key_alias, description=f\"CMK for AES encryption of UC catalog {catalog} in metastore {metastore_id}\", tags=[] )\n",
    "key_alias"
   ]
  },
  {
   "cell_type": "markdown",
   "metadata": {
    "application/vnd.databricks.v1+cell": {
     "cellMetadata": {},
     "inputWidgets": {},
     "nuid": "6d918e5d-6b35-4adf-ad3c-d934fcd26d70",
     "showTitle": false,
     "tableResultSettingsMap": {},
     "title": ""
    }
   },
   "source": [
    "## Step 3\n",
    "* Generate a DEK for the schema \n",
    "* Create a `crypto.key_vault` table to store our encrypted DEKs\n",
    "* Store the encrypted DEK in the `crypto.key_vault` table"
   ]
  },
  {
   "cell_type": "code",
   "execution_count": 0,
   "metadata": {
    "application/vnd.databricks.v1+cell": {
     "cellMetadata": {
      "byteLimit": 2048000,
      "rowLimit": 10000
     },
     "inputWidgets": {},
     "nuid": "424a846f-f9a4-4d67-9b4f-2690fcc6ddf2",
     "showTitle": false,
     "tableResultSettingsMap": {},
     "title": ""
    }
   },
   "outputs": [],
   "source": [
    "from databricks.sdk import WorkspaceClient\n",
    "from pyspark.sql.types import StructType, StructField, IntegerType, DateType, TimestampType, StringType, BooleanType, BinaryType\n",
    "from datetime import datetime\n",
    "from datetime import date\n",
    "\n",
    "ws = WorkspaceClient()\n",
    "\n",
    "dek = crypto_functions.generate_data_key(session=session, key_alias=key_alias, encryption_context={\"metastore/catalog\": f\"{metastore_id}/{catalog}\"}).get(\"CiphertextBlob\")\n",
    "\n",
    "keyvault_schema = StructType([\n",
    "    StructField(\"id\", IntegerType(), False),\n",
    "    StructField(\"created_date\", DateType(), False),\n",
    "    StructField(\"created_time\", TimestampType(), False),\n",
    "    StructField(\"last_modified_time\", TimestampType(), False),\n",
    "    StructField(\"created_by\", StringType(), False),\n",
    "    StructField(\"managed_by\", StringType(), False),\n",
    "    StructField(\"key_alias\", StringType(), False),\n",
    "    StructField(\"key_enabled\", BooleanType(), False),\n",
    "    StructField(\"key_version\", IntegerType(), True),\n",
    "    StructField(\"key_type\", StringType(), False),\n",
    "    StructField(\"key\", BinaryType(), False)\n",
    "])\n",
    "\n",
    "keyvault_data = [\n",
    "    {\"id\": 1, \"created_date\": date.today(), \"created_time\": datetime.now(), \"last_modified_time\": datetime.now(), \"created_by\": ws.current_user.me().user_name, \"managed_by\": ws.current_user.me().user_name, \"key_enabled\": True, \"key_version\": 1, \"key_type\": \"ENCRYPTED_DEK\", \"key_alias\": f\"{catalog}.{schema}\", \"key\": dek}]\n",
    "\n",
    "spark.createDataFrame(keyvault_data, keyvault_schema).write.mode(\"overwrite\").saveAsTable(\"crypto.keyvault\")"
   ]
  },
  {
   "cell_type": "code",
   "execution_count": 0,
   "metadata": {
    "application/vnd.databricks.v1+cell": {
     "cellMetadata": {
      "byteLimit": 2048000,
      "implicitDf": true,
      "rowLimit": 10000
     },
     "inputWidgets": {},
     "nuid": "9f78ecd4-70be-436b-bcd9-48adb2e0d588",
     "showTitle": false,
     "tableResultSettingsMap": {},
     "title": ""
    }
   },
   "outputs": [],
   "source": [
    "%sql\n",
    "SELECT \n",
    "* \n",
    "FROM crypto.keyvault \n",
    "WHERE key_alias = concat(:catalog, '.', :schema) \n",
    "AND key_enabled = true\n",
    "ORDER BY key_version DESC \n",
    "LIMIT 1"
   ]
  },
  {
   "cell_type": "markdown",
   "metadata": {
    "application/vnd.databricks.v1+cell": {
     "cellMetadata": {},
     "inputWidgets": {},
     "nuid": "e391dc17-a6de-4b5f-9ae6-c80a8924b095",
     "showTitle": false,
     "tableResultSettingsMap": {},
     "title": ""
    }
   },
   "source": [
    "## Step 4\n",
    "* Create an `unwrap_kms_key()` function that can be used to return a decrypted DEK \n",
    "* Test our `unwrap_kms_key()` function by encrypting/decryption some data"
   ]
  },
  {
   "cell_type": "code",
   "execution_count": 0,
   "metadata": {
    "application/vnd.databricks.v1+cell": {
     "cellMetadata": {
      "byteLimit": 2048000,
      "implicitDf": true,
      "rowLimit": 10000
     },
     "inputWidgets": {},
     "nuid": "a809e3b7-b0b6-4488-82ac-a601552eaeab",
     "showTitle": false,
     "tableResultSettingsMap": {},
     "title": ""
    }
   },
   "outputs": [],
   "source": [
    "%sql\n",
    "-- IMPORTANT!!! \n",
    "---> BEFORE RUNNING THIS STEP PLEASE UPDATE THE CREDENTIALS() SECTION TO REFERENCE YOUR uc_service_credential\n",
    "CREATE OR REPLACE FUNCTION crypto.unwrap_kms_key(context STRING, encrypted_dek BINARY) \n",
    "RETURNS BINARY\n",
    "LANGUAGE PYTHON\n",
    "PARAMETER STYLE PANDAS\n",
    "HANDLER 'batchhandler'\n",
    "CREDENTIALS (\n",
    "  `production-aws-kms` DEFAULT -- IMPORTANT! REPLACE THIS WITH YOUR UC SERVICE CREDENTIAL!!!\n",
    "  -- service credential should align with the catalog!\n",
    ")\n",
    "ENVIRONMENT (\n",
    "  dependencies = '[\"pycryptodome==3.22.0\"]',\n",
    "  environment_version = 'None'\n",
    ")\n",
    "AS $$\n",
    "import boto3\n",
    "from pyspark.taskcontext import TaskContext\n",
    "from botocore.exceptions import ClientError\n",
    "from base64 import b64encode\n",
    "from base64 import b64decode\n",
    "from typing import Iterator, Tuple\n",
    "import pandas as pd\n",
    "\n",
    "def setup_session():\n",
    "\n",
    "  session = boto3.Session()\n",
    "  region = TaskContext.get().getLocalProperty(\"spark.databricks.clusterUsageTags.region\")\n",
    "  client = session.client(\"kms\", region_name=region)\n",
    "  return client\n",
    "\n",
    "client = setup_session()\n",
    "\n",
    "def batchhandler(batch_iter: Iterator[Tuple[pd.Series, pd.Series]]) -> Iterator[pd.DataFrame]:\n",
    "\n",
    "    for c, d in batch_iter:\n",
    "\n",
    "        context = c[0]\n",
    "        alias = f\"alias/unity_catalog/{context}/4\"\n",
    "\n",
    "        try:\n",
    "            response = client.decrypt(CiphertextBlob=d[0], KeyId=alias, EncryptionContext={'metastore/catalog': context})\n",
    "            unwrapped = response.get(\"Plaintext\")\n",
    "        except ClientError as e:\n",
    "            raise e\n",
    "        yield pd.Series(unwrapped)\n",
    "$$;"
   ]
  },
  {
   "cell_type": "code",
   "execution_count": 0,
   "metadata": {
    "application/vnd.databricks.v1+cell": {
     "cellMetadata": {
      "byteLimit": 2048000,
      "implicitDf": true,
      "rowLimit": 10000
     },
     "inputWidgets": {},
     "nuid": "d451e612-b463-4164-9149-c705e318da17",
     "showTitle": false,
     "tableResultSettingsMap": {},
     "title": ""
    }
   },
   "outputs": [],
   "source": [
    "%sql\n",
    "SELECT base64(\n",
    "    aes_encrypt(\"I love Nelson so much he is my world\", \n",
    "    crypto.unwrap_kms_key(\n",
    "        context=>'9ae0a551-8fd1-423d-9265-dcf04b25cb09/production', \n",
    "        encrypted_dek=>(SELECT key FROM crypto.keyvault WHERE key_alias = concat(:catalog, '.', :schema)  AND key_enabled = true ORDER BY key_version DESC LIMIT 1)), \n",
    "        'GCM', 'DEFAULT')) AS test"
   ]
  },
  {
   "cell_type": "code",
   "execution_count": 0,
   "metadata": {
    "application/vnd.databricks.v1+cell": {
     "cellMetadata": {
      "byteLimit": 2048000,
      "implicitDf": true,
      "rowLimit": 10000
     },
     "inputWidgets": {},
     "nuid": "3e3a1571-3b72-40f1-a8b3-46aa1957ac3d",
     "showTitle": false,
     "tableResultSettingsMap": {},
     "title": ""
    }
   },
   "outputs": [],
   "source": [
    "%sql\n",
    "SELECT CAST(\n",
    "    aes_decrypt(\n",
    "        unbase64(\"//n8QLeXlPI6A+wSFIvK8fSI2TOVFbYmdd+2++9446Yx6FtLaecTERc9zeprwuvDF0nRXI6epRQ+\n",
    "OejSs3YGWg==\"), \n",
    "crypto.unwrap_kms_key(\n",
    "    context=>'9ae0a551-8fd1-423d-9265-dcf04b25cb09/production', \n",
    "    encrypted_dek=>(SELECT key FROM crypto.keyvault WHERE key_alias = concat(:catalog, '.', :schema)  AND key_enabled = true ORDER BY key_version DESC LIMIT 1)), \n",
    "    'GCM', 'DEFAULT') AS STRING) AS test"
   ]
  },
  {
   "cell_type": "markdown",
   "metadata": {
    "application/vnd.databricks.v1+cell": {
     "cellMetadata": {},
     "inputWidgets": {},
     "nuid": "3b0e9a8d-64e9-41b2-8b2a-5f3133eb38cf",
     "showTitle": false,
     "tableResultSettingsMap": {},
     "title": ""
    }
   },
   "source": [
    "## Step 5\n",
    "* Create `encrypt_kms()` and `decrypt_kms()` functions that can be used to encrypt/decrypt data within our catalog. \n",
    "* These functions will call our more privileged `unwrap_kms_key()` function in order to unwrap DEKs and encrypt or decrypt the data"
   ]
  },
  {
   "cell_type": "code",
   "execution_count": 0,
   "metadata": {
    "application/vnd.databricks.v1+cell": {
     "cellMetadata": {
      "byteLimit": 2048000,
      "rowLimit": 10000
     },
     "inputWidgets": {},
     "nuid": "cfebba66-5547-4c7c-94b3-b8c2a65168e0",
     "showTitle": false,
     "tableResultSettingsMap": {},
     "title": ""
    }
   },
   "outputs": [],
   "source": [
    "# Todo - this fails with an error I think because the UC credential is not passed from query -> function -> nested query. Need to check if this is expected and/or there's a fix planned\n",
    "\n",
    "sql(f\"\"\"\n",
    "    CREATE OR REPLACE FUNCTION crypto.encrypt_kms(col STRING, key_alias STRING) \n",
    "    RETURNS STRING\n",
    "    RETURN base64(aes_encrypt(\n",
    "            col, \n",
    "            (SELECT crypto.unwrap_kms_key(\n",
    "                context=>'9ae0a551-8fd1-423d-9265-dcf04b25cb09/production', \n",
    "                encrypted_dek=>(SELECT key FROM crypto.keyvault \n",
    "                WHERE key_alias = key_alias AND key_enabled = true ORDER BY key_version DESC LIMIT 1))),\n",
    "            'GCM',  \n",
    "            'DEFAULT'\n",
    "        ))\n",
    "    \"\"\")"
   ]
  },
  {
   "cell_type": "code",
   "execution_count": 0,
   "metadata": {
    "application/vnd.databricks.v1+cell": {
     "cellMetadata": {
      "byteLimit": 2048000,
      "rowLimit": 10000
     },
     "inputWidgets": {},
     "nuid": "6230c817-183d-40b0-9267-c9078ab41079",
     "showTitle": false,
     "tableResultSettingsMap": {},
     "title": ""
    }
   },
   "outputs": [],
   "source": [
    "# This works but isn't as nice\n",
    "\n",
    "sql(f\"\"\"\n",
    "    CREATE OR REPLACE FUNCTION crypto.encrypt_kms(col STRING, key BINARY) \n",
    "    RETURNS STRING\n",
    "    RETURN base64(aes_encrypt(\n",
    "            col, \n",
    "            key,\n",
    "            'GCM',  \n",
    "            'DEFAULT'\n",
    "        ))\n",
    "    \"\"\")"
   ]
  },
  {
   "cell_type": "code",
   "execution_count": 0,
   "metadata": {
    "application/vnd.databricks.v1+cell": {
     "cellMetadata": {
      "byteLimit": 2048000,
      "rowLimit": 10000
     },
     "inputWidgets": {},
     "nuid": "24589cc5-7dda-4892-bcbc-a8227d9650f8",
     "showTitle": false,
     "tableResultSettingsMap": {},
     "title": ""
    }
   },
   "outputs": [],
   "source": [
    "sql(f\"\"\"\n",
    "    CREATE OR REPLACE FUNCTION crypto.decrypt_kms(col STRING, key BINARY) \n",
    "    RETURNS STRING\n",
    "    RETURN \n",
    "        CASE WHEN TRUE\n",
    "        --is_account_group_member(CONCAT('{catalog}_', schema_name, '_decrypt')) \n",
    "        THEN \n",
    "        nvl(CAST(try_aes_decrypt(unbase64(col), \n",
    "        key,\n",
    "        'GCM',  \n",
    "        'DEFAULT') AS STRING), \n",
    "        col)\n",
    "        ELSE col END\n",
    "    \"\"\")"
   ]
  },
  {
   "cell_type": "code",
   "execution_count": 0,
   "metadata": {
    "application/vnd.databricks.v1+cell": {
     "cellMetadata": {
      "byteLimit": 2048000,
      "implicitDf": true,
      "rowLimit": 10000
     },
     "inputWidgets": {},
     "nuid": "33e5b9c6-9268-4478-b023-b6d28dd504c8",
     "showTitle": false,
     "tableResultSettingsMap": {},
     "title": ""
    }
   },
   "outputs": [],
   "source": [
    "%sql\n",
    "--SELECT crypto.encrypt_kms(\"Hello my name is Weaver\", \"production.schema\") AS result"
   ]
  },
  {
   "cell_type": "code",
   "execution_count": 0,
   "metadata": {
    "application/vnd.databricks.v1+cell": {
     "cellMetadata": {
      "byteLimit": 2048000,
      "implicitDf": true,
      "rowLimit": 10000
     },
     "inputWidgets": {},
     "nuid": "f41237e2-a358-402f-88a0-a7d597b03ae7",
     "showTitle": false,
     "tableResultSettingsMap": {},
     "title": ""
    }
   },
   "outputs": [],
   "source": [
    "%sql\n",
    "SELECT crypto.encrypt_kms(\"Hello my name is Weaver\", \n",
    "(crypto.unwrap_kms_key(\n",
    "    context=>'9ae0a551-8fd1-423d-9265-dcf04b25cb09/production', \n",
    "    encrypted_dek=>\n",
    "    (SELECT key FROM crypto.keyvault WHERE key_alias = key_alias AND key_enabled = true ORDER BY key_version DESC LIMIT 1)))) AS result"
   ]
  },
  {
   "cell_type": "code",
   "execution_count": 0,
   "metadata": {
    "application/vnd.databricks.v1+cell": {
     "cellMetadata": {
      "byteLimit": 2048000,
      "implicitDf": true,
      "rowLimit": 10000
     },
     "inputWidgets": {},
     "nuid": "52157b3c-4b5b-47af-ad9f-4ef9751459d5",
     "showTitle": false,
     "tableResultSettingsMap": {},
     "title": ""
    }
   },
   "outputs": [],
   "source": [
    "%sql\n",
    "SELECT crypto.decrypt_kms(\"pp2lq50yTptgiwPd9YcdDu51EhCgE/XAC8pt/TNQfDANaILZ/0H1haQ1Wn88yRCIfJnW\", \n",
    "(crypto.unwrap_kms_key(\n",
    "    context=>'9ae0a551-8fd1-423d-9265-dcf04b25cb09/production', \n",
    "    encrypted_dek=>\n",
    "    (SELECT key FROM crypto.keyvault WHERE key_alias = key_alias AND key_enabled = true ORDER BY key_version DESC LIMIT 1)))) AS result"
   ]
  },
  {
   "cell_type": "markdown",
   "metadata": {
    "application/vnd.databricks.v1+cell": {
     "cellMetadata": {},
     "inputWidgets": {},
     "nuid": "8ad051c9-5358-4a3f-b768-5229d47894e1",
     "showTitle": false,
     "tableResultSettingsMap": {},
     "title": ""
    }
   },
   "source": [
    "## Step \n",
    "* Create a table from the raw data we downloaded above, encrypting the columns that contain sensitive data"
   ]
  },
  {
   "cell_type": "code",
   "execution_count": 0,
   "metadata": {
    "application/vnd.databricks.v1+cell": {
     "cellMetadata": {},
     "inputWidgets": {},
     "nuid": "c74b6bf0-9572-4ae9-b9f8-4b02706fd208",
     "showTitle": false,
     "tableResultSettingsMap": {},
     "title": ""
    }
   },
   "outputs": [],
   "source": [
    "%sql\n",
    "USE SCHEMA IDENTIFIER(:schema);\n",
    "CREATE OR REPLACE TABLE IDENTIFIER(:schema || '.titanic') AS (\n",
    "SELECT \n",
    "PassengerId,\n",
    "crypto.encrypt_kms(Name, :schema) AS Name,\n",
    "crypto.encrypt_kms(Age, :schema) AS Age,\n",
    "crypto.encrypt_kms(Sex, :schema) AS Sex,\n",
    "* EXCEPT(PassengerId, Name, Age, Sex)\n",
    "FROM read_files(\n",
    "  concat('/Volumes/', :catalog, '/', :schema, '/raw_files/titanic.csv'),\n",
    "  format => 'csv',\n",
    "  header => true,\n",
    "  mode => 'FAILFAST')\n",
    ");\n",
    "SELECT * FROM IDENTIFIER(:catalog || '.' || :schema || '.titanic');"
   ]
  },
  {
   "cell_type": "markdown",
   "metadata": {
    "application/vnd.databricks.v1+cell": {
     "cellMetadata": {},
     "inputWidgets": {},
     "nuid": "232e13d2-0378-417c-a684-515216fd7713",
     "showTitle": false,
     "tableResultSettingsMap": {},
     "title": ""
    }
   },
   "source": [
    "## Step \n",
    "* Check that the decrypt functions work as expected..."
   ]
  },
  {
   "cell_type": "code",
   "execution_count": 0,
   "metadata": {
    "application/vnd.databricks.v1+cell": {
     "cellMetadata": {},
     "inputWidgets": {},
     "nuid": "72823da0-c173-4be6-80b4-728c689d3dfb",
     "showTitle": false,
     "tableResultSettingsMap": {},
     "title": ""
    }
   },
   "outputs": [],
   "source": [
    "%sql\n",
    "SELECT\n",
    "PassengerId, \n",
    "crypto.decrypt_kms(Name, :schema) AS Name,\n",
    "crypto.decrypt_kms(Age, :schema) AS Age,\n",
    "crypto.decrypt_kms(Sex, :schema) AS Sex,\n",
    "* EXCEPT(PassengerId, Name, Age, Sex)\n",
    "FROM IDENTIFIER(:catalog || '.' || :schema || '.titanic');"
   ]
  },
  {
   "cell_type": "markdown",
   "metadata": {
    "application/vnd.databricks.v1+cell": {
     "cellMetadata": {},
     "inputWidgets": {},
     "nuid": "c68c523a-08b2-4b83-9238-4fce6119d120",
     "showTitle": false,
     "tableResultSettingsMap": {},
     "title": ""
    }
   },
   "source": [
    "## Step  \n",
    "* You can also add a column mask to the encrypted table\n",
    "* A column mask serves the following purposes:\n",
    "  * The calling users don't even need permissions to the `encrypt_kms()` and `decrypt_kms()` functions or the `crypto` schema\n",
    "  * The whole process of encryption/decryption is abstracted away from them\n",
    "\n",
    "> ### NOTE: \n",
    "Adding a column mask is likely to cause calling the `decrypt_kms()` function directly to fail, since the column mask will try to decrypt the data automatically and you'll be trying to decrypt the already decrypted results!\n",
    "\n",
    "> ### IMPORTANT: \n",
    "Please update the `USING COLUMNS('customers')` section below with your `schema` name"
   ]
  },
  {
   "cell_type": "code",
   "execution_count": 0,
   "metadata": {
    "application/vnd.databricks.v1+cell": {
     "cellMetadata": {},
     "inputWidgets": {},
     "nuid": "c9e1866d-8864-42f5-96c5-1590df23acd8",
     "showTitle": false,
     "tableResultSettingsMap": {},
     "title": ""
    }
   },
   "outputs": [],
   "source": [
    "%sql\n",
    "-- IMPORTANT!!! \n",
    "---> BEFORE RUNNING THIS STEP PLEASE UPDATE THE USING COLUMNS() SECTION TO REFERENCE YOUR UC SCHEMA NAME\n",
    "ALTER TABLE IDENTIFIER(:catalog || '.' || :schema || '.titanic') ALTER COLUMN Name SET MASK crypto.decrypt USING COLUMNS('marketing');\n",
    "ALTER TABLE IDENTIFIER(:catalog || '.' || :schema || '.titanic') ALTER COLUMN Age SET MASK crypto.decrypt USING COLUMNS ('marketing');\n",
    "ALTER TABLE IDENTIFIER(:catalog || '.' || :schema || '.titanic') ALTER COLUMN Sex SET MASK crypto.decrypt USING COLUMNS ('marketing');"
   ]
  },
  {
   "cell_type": "code",
   "execution_count": 0,
   "metadata": {
    "application/vnd.databricks.v1+cell": {
     "cellMetadata": {},
     "inputWidgets": {},
     "nuid": "cdc70724-0bee-4dc0-8e82-8d0894ca8d1a",
     "showTitle": false,
     "tableResultSettingsMap": {},
     "title": ""
    }
   },
   "outputs": [],
   "source": [
    "%sql\n",
    "SELECT \n",
    "*\n",
    "FROM IDENTIFIER(:catalog || '.' || :schema || '.titanic');"
   ]
  }
 ],
 "metadata": {
  "application/vnd.databricks.v1+notebook": {
   "computePreferences": null,
   "dashboards": [],
   "environmentMetadata": {
    "base_environment": "",
    "environment_version": "2"
   },
   "inputWidgetPreferences": null,
   "language": "python",
   "notebookMetadata": {
    "mostRecentlyExecutedCommandWithImplicitDF": {
     "commandId": 8441689837065067,
     "dataframes": [
      "_sqldf"
     ]
    },
    "pythonIndentUnit": 4
   },
   "notebookName": "01_setup",
   "widgets": {
    "aws_cmk_creation": {
     "currentValue": "True",
     "nuid": "a88fb791-6134-4dd2-948f-8ad77ac70274",
     "typedWidgetInfo": {
      "autoCreated": false,
      "defaultValue": "True",
      "label": null,
      "name": "aws_cmk_creation",
      "options": {
       "widgetDisplayType": "Dropdown",
       "choices": [
        "True",
        "False"
       ],
       "fixedDomain": true,
       "multiselect": false
      },
      "parameterDataType": "String"
     },
     "widgetInfo": {
      "widgetType": "dropdown",
      "defaultValue": "True",
      "label": null,
      "name": "aws_cmk_creation",
      "options": {
       "widgetType": "dropdown",
       "autoCreated": null,
       "choices": [
        "True",
        "False"
       ]
      }
     }
    },
    "catalog": {
     "currentValue": "production",
     "nuid": "650ccae7-7579-4a6f-9e2f-2572561a3229",
     "typedWidgetInfo": {
      "autoCreated": false,
      "defaultValue": "production",
      "label": null,
      "name": "catalog",
      "options": {
       "widgetDisplayType": "Text",
       "validationRegex": null
      },
      "parameterDataType": "String"
     },
     "widgetInfo": {
      "widgetType": "text",
      "defaultValue": "production",
      "label": null,
      "name": "catalog",
      "options": {
       "widgetType": "text",
       "autoCreated": null,
       "validationRegex": null
      }
     }
    },
    "region": {
     "currentValue": "eu-west-1",
     "nuid": "50163e9b-d2ca-43ef-9a77-5d76d3cf01c6",
     "typedWidgetInfo": {
      "autoCreated": false,
      "defaultValue": "eu-west-1",
      "label": null,
      "name": "region",
      "options": {
       "widgetDisplayType": "Text",
       "validationRegex": null
      },
      "parameterDataType": "String"
     },
     "widgetInfo": {
      "widgetType": "text",
      "defaultValue": "eu-west-1",
      "label": null,
      "name": "region",
      "options": {
       "widgetType": "text",
       "autoCreated": null,
       "validationRegex": null
      }
     }
    },
    "schema": {
     "currentValue": "marketing",
     "nuid": "1fa1c252-f121-42b3-b7c0-5351626ac501",
     "typedWidgetInfo": {
      "autoCreated": false,
      "defaultValue": "marketing",
      "label": null,
      "name": "schema",
      "options": {
       "widgetDisplayType": "Text",
       "validationRegex": null
      },
      "parameterDataType": "String"
     },
     "widgetInfo": {
      "widgetType": "text",
      "defaultValue": "marketing",
      "label": null,
      "name": "schema",
      "options": {
       "widgetType": "text",
       "autoCreated": null,
       "validationRegex": null
      }
     }
    },
    "uc_service_credential": {
     "currentValue": "production-aws-kms",
     "nuid": "398a0db4-855d-4f70-8120-4dfd40b08784",
     "typedWidgetInfo": {
      "autoCreated": false,
      "defaultValue": "production-aws-kms",
      "label": null,
      "name": "uc_service_credential",
      "options": {
       "widgetDisplayType": "Text",
       "validationRegex": null
      },
      "parameterDataType": "String"
     },
     "widgetInfo": {
      "widgetType": "text",
      "defaultValue": "production-aws-kms",
      "label": null,
      "name": "uc_service_credential",
      "options": {
       "widgetType": "text",
       "autoCreated": null,
       "validationRegex": null
      }
     }
    }
   }
  },
  "language_info": {
   "name": "python"
  }
 },
 "nbformat": 4,
 "nbformat_minor": 0
}
