{
 "cells": [
  {
   "cell_type": "markdown",
   "metadata": {
    "application/vnd.databricks.v1+cell": {
     "cellMetadata": {
      "byteLimit": 2048000,
      "rowLimit": 10000
     },
     "inputWidgets": {},
     "nuid": "fa788fd9-602f-4445-a58b-f7389b8770c2",
     "showTitle": true,
     "tableResultSettingsMap": {},
     "title": ""
    }
   },
   "source": [
    "* https://docs.databricks.com/aws/en/udf/python-batch-udf\n",
    "* https://docs.databricks.com/aws/en/connect/unity-catalog/cloud-services/use-service-credentials \n",
    "* https://docs.databricks.com/aws/en/sql/language-manual/functions/aes_decrypt\n",
    "* https://docs.databricks.com/aws/en/sql/language-manual/functions/aes_encrypt\n",
    "* https://docs.databricks.com/aws/en/udf/udf-task-context?language=PySpark+UDF\n",
    "* https://docs.databricks.com/aws/en/udf/pandas\n",
    "* https://docs.google.com/document/d/1fj2Mt9FtzWr5wB7kpa-TxVasO3wzqxaQ5uFLBci7_Q4/edit?tab=t.0"
   ]
  },
  {
   "cell_type": "code",
   "execution_count": 0,
   "metadata": {
    "application/vnd.databricks.v1+cell": {
     "cellMetadata": {
      "byteLimit": 2048000,
      "rowLimit": 10000
     },
     "inputWidgets": {},
     "nuid": "109b6959-ce51-457c-9341-ce035a6c9f84",
     "showTitle": false,
     "tableResultSettingsMap": {},
     "title": ""
    }
   },
   "outputs": [],
   "source": []
  },
  {
   "cell_type": "code",
   "execution_count": 0,
   "metadata": {
    "application/vnd.databricks.v1+cell": {
     "cellMetadata": {
      "byteLimit": 2048000,
      "rowLimit": 10000
     },
     "inputWidgets": {},
     "nuid": "73bdaca0-d33f-40b6-9d09-e6cab3ab16f7",
     "showTitle": false,
     "tableResultSettingsMap": {},
     "title": ""
    }
   },
   "outputs": [],
   "source": []
  },
  {
   "cell_type": "code",
   "execution_count": 0,
   "metadata": {
    "application/vnd.databricks.v1+cell": {
     "cellMetadata": {
      "byteLimit": 2048000,
      "rowLimit": 10000
     },
     "inputWidgets": {},
     "nuid": "98a1b892-5d9f-4eb0-96fc-6f957ca6136d",
     "showTitle": false,
     "tableResultSettingsMap": {},
     "title": ""
    }
   },
   "outputs": [],
   "source": []
  },
  {
   "cell_type": "code",
   "execution_count": 0,
   "metadata": {
    "application/vnd.databricks.v1+cell": {
     "cellMetadata": {
      "byteLimit": 2048000,
      "rowLimit": 10000
     },
     "inputWidgets": {},
     "nuid": "a650e594-6a6a-4e48-becc-45438849542e",
     "showTitle": false,
     "tableResultSettingsMap": {},
     "title": ""
    }
   },
   "outputs": [],
   "source": [
    "%pip install pycryptodome"
   ]
  },
  {
   "cell_type": "code",
   "execution_count": 0,
   "metadata": {
    "application/vnd.databricks.v1+cell": {
     "cellMetadata": {},
     "inputWidgets": {},
     "nuid": "c1e474e8-7c06-478f-93ab-db0d88fb7cfe",
     "showTitle": false,
     "tableResultSettingsMap": {},
     "title": ""
    }
   },
   "outputs": [],
   "source": []
  },
  {
   "cell_type": "code",
   "execution_count": 0,
   "metadata": {
    "application/vnd.databricks.v1+cell": {
     "cellMetadata": {},
     "inputWidgets": {},
     "nuid": "40d92264-a16d-4df8-9e9d-b8d27ae8a7f3",
     "showTitle": false,
     "tableResultSettingsMap": {},
     "title": ""
    }
   },
   "outputs": [],
   "source": []
  },
  {
   "cell_type": "code",
   "execution_count": 0,
   "metadata": {
    "application/vnd.databricks.v1+cell": {
     "cellMetadata": {
      "byteLimit": 2048000,
      "rowLimit": 10000
     },
     "inputWidgets": {},
     "nuid": "21cc1f38-78c1-4f61-bc55-6dd42dc0d12c",
     "showTitle": false,
     "tableResultSettingsMap": {},
     "title": ""
    }
   },
   "outputs": [],
   "source": [
    "# pycryptodome -> Stored in AWS SM\n",
    "\n",
    "    # KEK per catalog? Stored as a secret like -> \n",
    "        # <env>/<catalog_name>/<year>\n",
    "        # example: prod/aweaver_catalog_1323553108280374/2025\n",
    "\n",
    "            # kek_password = (String)\n",
    "            # kek_salt = (String)\n",
    "\n",
    "    # Used to encrypt/decrypt DEKs:\n",
    "        # encrypted_dek (String)\n",
    "        # encrypted_iv (String)\n",
    "        # encrypted_aad (String)\n",
    "        \n",
    "        #For each:\n",
    "            # nonce (String)\n",
    "            # tag (String)"
   ]
  },
  {
   "cell_type": "code",
   "execution_count": 0,
   "metadata": {
    "application/vnd.databricks.v1+cell": {
     "cellMetadata": {},
     "inputWidgets": {},
     "nuid": "9c8cf1a6-1b14-4223-bea6-dffacc6ae8f4",
     "showTitle": false,
     "tableResultSettingsMap": {},
     "title": ""
    }
   },
   "outputs": [],
   "source": []
  },
  {
   "cell_type": "code",
   "execution_count": 0,
   "metadata": {
    "application/vnd.databricks.v1+cell": {
     "cellMetadata": {
      "byteLimit": 2048000,
      "rowLimit": 10000
     },
     "inputWidgets": {},
     "nuid": "d8e3df2b-2cd8-4343-b743-641f5c0e7b6e",
     "showTitle": false,
     "tableResultSettingsMap": {},
     "title": ""
    }
   },
   "outputs": [],
   "source": [
    "import secrets\n",
    "from base64 import b64encode\n",
    "from Crypto.Random import get_random_bytes\n",
    "\n",
    "kek_password = b64encode(secrets.token_bytes(32)).decode(\"utf-8\")\n",
    "print(f\"kek_password: {kek_password}\")\n",
    "\n",
    "kek_salt = b64encode(get_random_bytes(32)).decode(\"utf-8\")\n",
    "print(f\"kek_salt: {kek_salt}\")"
   ]
  },
  {
   "cell_type": "code",
   "execution_count": 0,
   "metadata": {
    "application/vnd.databricks.v1+cell": {
     "cellMetadata": {
      "byteLimit": 2048000,
      "rowLimit": 10000
     },
     "inputWidgets": {},
     "nuid": "b0c98c2a-c6ee-43c5-b7b4-b6af9895cc9c",
     "showTitle": false,
     "tableResultSettingsMap": {},
     "title": ""
    }
   },
   "outputs": [],
   "source": [
    "import random\n",
    "import string\n",
    "\n",
    "dek = b64encode(secrets.token_bytes(24)).decode('utf-8')\n",
    "iv = ''.join(random.choices(string.ascii_uppercase + string.digits, k=12))\n",
    "aad = ''.join(random.choices(string.ascii_uppercase + string.digits, k=8))\n",
    "print(f\"dek: {dek}\")\n",
    "print(f\"iv: {iv}\")\n",
    "print(f\"aad: {aad}\")"
   ]
  },
  {
   "cell_type": "code",
   "execution_count": 0,
   "metadata": {
    "application/vnd.databricks.v1+cell": {
     "cellMetadata": {
      "byteLimit": 2048000,
      "rowLimit": 10000
     },
     "inputWidgets": {},
     "nuid": "c195170f-063c-4844-8ac3-fe1faafc11c0",
     "showTitle": false,
     "tableResultSettingsMap": {},
     "title": ""
    }
   },
   "outputs": [],
   "source": [
    "from Crypto.Protocol.KDF import scrypt\n",
    "\n",
    "def encrypt_with_kek(kek_password, kek_salt, to_encrypt):\n",
    "\n",
    "    kek_salt = base64.b64decode(kek_salt)\n",
    "    kek = scrypt(kek_password, kek_salt, key_len=32, N=2**17, r=8, p=1)\n",
    "    cipher = AES.new(kek, AES.MODE_GCM) \n",
    "    nonce_bytes = cipher.nonce \n",
    "    encrypted = cipher.encrypt(to_encrypt.encode('utf-8'))\n",
    "    tag_bytes = cipher.digest() \n",
    "    encrypted_string = b64encode(encrypted).decode('utf-8')\n",
    "    nonce = b64encode(nonce_bytes).decode('utf-8')\n",
    "    tag = b64encode(tag_bytes).decode('utf-8')\n",
    "\n",
    "    return encrypted_string, nonce, tag"
   ]
  },
  {
   "cell_type": "code",
   "execution_count": 0,
   "metadata": {
    "application/vnd.databricks.v1+cell": {
     "cellMetadata": {
      "byteLimit": 2048000,
      "rowLimit": 10000
     },
     "inputWidgets": {},
     "nuid": "bb461e19-6604-4a42-a2ae-3fea10d1246f",
     "showTitle": false,
     "tableResultSettingsMap": {},
     "title": ""
    }
   },
   "outputs": [],
   "source": [
    "encrypted_string, nonce, tag = encrypt_with_kek(kek_password, kek_salt, dek)\n",
    "encrypted_string"
   ]
  },
  {
   "cell_type": "code",
   "execution_count": 0,
   "metadata": {
    "application/vnd.databricks.v1+cell": {
     "cellMetadata": {
      "byteLimit": 2048000,
      "rowLimit": 10000
     },
     "inputWidgets": {},
     "nuid": "f6dc16bc-c653-4248-ae61-7c2323c200b7",
     "showTitle": false,
     "tableResultSettingsMap": {},
     "title": ""
    }
   },
   "outputs": [],
   "source": [
    "import base64\n",
    "\n",
    "def decrypt_with_kek(kek_password, kek_salt, to_decrypt, nonce, tag):\n",
    "    \n",
    "    kek_salt = base64.b64decode(kek_salt)\n",
    "    kek = scrypt(kek_password, kek_salt, key_len=32, N=2**17, r=8, p=1)\n",
    "    cipher = AES.new(kek, AES.MODE_GCM, nonce=base64.b64decode(nonce)) \n",
    "    decrypted = cipher.decrypt(base64.b64decode(to_decrypt)) \n",
    "\n",
    "    try:\n",
    "        cipher.verify(base64.b64decode(tag))\n",
    "    except ValueError as e:\n",
    "        raise e\n",
    "\n",
    "    return decrypted.decode('utf-8')"
   ]
  },
  {
   "cell_type": "code",
   "execution_count": 0,
   "metadata": {
    "application/vnd.databricks.v1+cell": {
     "cellMetadata": {
      "byteLimit": 2048000,
      "rowLimit": 10000
     },
     "inputWidgets": {},
     "nuid": "f004d632-1690-48a8-984f-1ef9d1044b08",
     "showTitle": false,
     "tableResultSettingsMap": {},
     "title": ""
    }
   },
   "outputs": [],
   "source": [
    "decrypted = decrypt_with_kek(kek_password, kek_salt, encrypted_string, nonce, tag)\n",
    "decrypted"
   ]
  },
  {
   "cell_type": "code",
   "execution_count": 0,
   "metadata": {
    "application/vnd.databricks.v1+cell": {
     "cellMetadata": {
      "byteLimit": 2048000,
      "rowLimit": 10000
     },
     "inputWidgets": {},
     "nuid": "e067055a-09ec-4732-9721-ed7702d974d6",
     "showTitle": false,
     "tableResultSettingsMap": {},
     "title": ""
    }
   },
   "outputs": [],
   "source": [
    "import boto3\n",
    "from botocore.exceptions import ClientError\n",
    "import json\n",
    "import pandas as pd\n",
    "\n",
    "boto3_session = boto3.Session(botocore_session=dbutils.credentials.getServiceCredentialsProvider('aweaver-secrets-manager'), region_name='eu-west-1')\n",
    "\n",
    "sm = boto3_session.client('secretsmanager')\n",
    "secret_name = \"prod/aweaver_catalog_1323553108280374/2026\"\n",
    "\n",
    "try:\n",
    "    get_secret_value_response = sm.get_secret_value(\n",
    "        SecretId=secret_name\n",
    "    )\n",
    "except ClientError as e:\n",
    "    # For a list of exceptions thrown, see\n",
    "    # https://docs.aws.amazon.com/secretsmanager/latest/apireference/API_GetSecretValue.html\n",
    "    raise e\n",
    "\n",
    "secret = json.loads(get_secret_value_response['SecretString'])\n",
    "# pdf = pd.DataFrame([secret])\n",
    "# display(pdf)\n",
    "secret"
   ]
  },
  {
   "cell_type": "code",
   "execution_count": 0,
   "metadata": {
    "application/vnd.databricks.v1+cell": {
     "cellMetadata": {
      "byteLimit": 2048000,
      "implicitDf": true,
      "rowLimit": 10000
     },
     "inputWidgets": {},
     "nuid": "5224db6d-7457-4a3b-a20d-4175d15580ef",
     "showTitle": false,
     "tableResultSettingsMap": {},
     "title": ""
    }
   },
   "outputs": [],
   "source": [
    "%sql\n",
    "CREATE OR REPLACE FUNCTION aweaver_catalog_1323553108280374.crypto.unwrap_dek(secret_name STRING) \n",
    "RETURNS STRUCT<dek: STRING, iv: STRING, aad: STRING>\n",
    "LANGUAGE PYTHON\n",
    "PARAMETER STYLE PANDAS\n",
    "HANDLER 'batchhandler'\n",
    "CREDENTIALS (\n",
    "  `aweaver-secrets-manager` DEFAULT\n",
    ")\n",
    "ENVIRONMENT (\n",
    "  dependencies = '[\"pycryptodome==3.22.0\"]',\n",
    "  environment_version = 'None'\n",
    ")\n",
    "AS $$\n",
    "import boto3\n",
    "from pyspark.taskcontext import TaskContext\n",
    "from botocore.exceptions import ClientError\n",
    "from Crypto.Cipher import AES\n",
    "from Crypto.Protocol.KDF import scrypt\n",
    "import base64\n",
    "from typing import Iterator\n",
    "import json\n",
    "import pandas as pd\n",
    "\n",
    "def setup_session():\n",
    "\n",
    "  session = boto3.Session()\n",
    "  region = TaskContext.get().getLocalProperty(\"spark.databricks.clusterUsageTags.region\")\n",
    "  client = session.client(\"secretsmanager\", region_name=region)\n",
    "  return client\n",
    "\n",
    "def decrypt_with_kek(kek_password, kek_salt, dek, nonce, tag):\n",
    "\n",
    "  salt = base64.b64decode(kek_salt)\n",
    "  kek = scrypt(kek_password, salt, key_len=32, N=2**17, r=8, p=1)\n",
    "  cipher = AES.new(kek, AES.MODE_GCM, nonce=base64.b64decode(nonce))\n",
    "  decrypted = cipher.decrypt(base64.b64decode(dek))\n",
    "  try:\n",
    "    cipher.verify(base64.b64decode(tag))\n",
    "  except ValueError as e:\n",
    "    raise e\n",
    "  return decrypted.decode('utf-8')\n",
    "\n",
    "client = setup_session()\n",
    "\n",
    "def batchhandler(batch_iter: Iterator[pd.Series]) -> Iterator[pd.DataFrame]:\n",
    "\n",
    "  results = []\n",
    "  for s in batch_iter:\n",
    "    try:\n",
    "      response = client.get_secret_value(SecretId=s[0])\n",
    "      secret = json.loads(response['SecretString'])\n",
    "    except ClientError as e:\n",
    "      raise e\n",
    "    \n",
    "    secret[\"dek\"] = decrypt_with_kek(\n",
    "      kek_password=secret[\"kek_password\"], \n",
    "      kek_salt=secret[\"kek_salt\"], \n",
    "      dek=secret[\"dek\"], \n",
    "      nonce=secret[\"dek_nonce\"], \n",
    "      tag=secret[\"dek_tag\"])\n",
    "    results.append(secret)\n",
    "  \n",
    "  yield pd.DataFrame(results, columns=['dek', 'iv', 'aad'])\n",
    "$$;"
   ]
  },
  {
   "cell_type": "code",
   "execution_count": 0,
   "metadata": {
    "application/vnd.databricks.v1+cell": {
     "cellMetadata": {
      "byteLimit": 2048000,
      "implicitDf": true,
      "rowLimit": 10000
     },
     "inputWidgets": {},
     "nuid": "18f8b3dd-13da-4b1b-9a9b-2af8f233ffc3",
     "showTitle": false,
     "tableResultSettingsMap": {},
     "title": ""
    }
   },
   "outputs": [],
   "source": [
    "%sql\n",
    "SELECT * FROM (SELECT aweaver_catalog_1323553108280374.crypto.unwrap_dek(secret_name).dek AS dek\n",
    "FROM (\n",
    "  SELECT 'prod/aweaver_catalog_1323553108280374/2026' AS secret_name\n",
    ") t)"
   ]
  },
  {
   "cell_type": "code",
   "execution_count": 0,
   "metadata": {
    "application/vnd.databricks.v1+cell": {
     "cellMetadata": {
      "byteLimit": 2048000,
      "implicitDf": true,
      "rowLimit": 10000
     },
     "inputWidgets": {},
     "nuid": "b2da0d38-7819-41d0-aede-946627f9fe4f",
     "showTitle": false,
     "tableResultSettingsMap": {},
     "title": ""
    }
   },
   "outputs": [],
   "source": [
    "%sql\n",
    "SELECT * FROM (SELECT aweaver_catalog_1323553108280374.crypto.unwrap_dek(secret_name)\n",
    "FROM (\n",
    "  SELECT 'prod/aweaver_catalog_1323553108280374/2026' AS secret_name\n",
    ") t)"
   ]
  },
  {
   "cell_type": "code",
   "execution_count": 0,
   "metadata": {
    "application/vnd.databricks.v1+cell": {
     "cellMetadata": {
      "byteLimit": 2048000,
      "implicitDf": true,
      "rowLimit": 10000
     },
     "inputWidgets": {},
     "nuid": "071160f3-0683-44dc-939f-d0aee29b4933",
     "showTitle": false,
     "tableResultSettingsMap": {},
     "title": ""
    }
   },
   "outputs": [],
   "source": [
    "%sql\n",
    "CREATE OR REPLACE TABLE aweaver_catalog_1323553108280374.encrypted.titanic AS \n",
    "SELECT \n",
    "  base64(aes_encrypt(\n",
    "    Name, \n",
    "    (SELECT dek FROM (SELECT aweaver_catalog_1323553108280374.crypto.unwrap_dek(secret_name).dek AS dek FROM (SELECT 'prod/aweaver_catalog_1323553108280374/2026' AS secret_name) t)), \n",
    "    'GCM', \n",
    "    'DEFAULT'\n",
    "  )) AS encrypted_name,\n",
    "  base64(aes_encrypt(\n",
    "    Sex, \n",
    "    (SELECT dek FROM (SELECT aweaver_catalog_1323553108280374.crypto.unwrap_dek(secret_name).dek AS dek FROM (SELECT 'prod/aweaver_catalog_1323553108280374/2026' AS secret_name) t)), \n",
    "    'GCM', \n",
    "    'DEFAULT'\n",
    "  )) AS encrypted_sex,\n",
    "  base64(aes_encrypt(\n",
    "    CAST(Age AS STRING), \n",
    "    (SELECT dek FROM (SELECT aweaver_catalog_1323553108280374.crypto.unwrap_dek(secret_name).dek AS dek FROM (SELECT 'prod/aweaver_catalog_1323553108280374/2026' AS secret_name) t)), \n",
    "    'GCM', \n",
    "    'DEFAULT'\n",
    "  )) AS encrypted_age,\n",
    "  * EXCEPT (Name, Sex, Age)\n",
    "FROM aweaver_catalog_1323553108280374.raw.titanic;"
   ]
  },
  {
   "cell_type": "code",
   "execution_count": 0,
   "metadata": {
    "application/vnd.databricks.v1+cell": {
     "cellMetadata": {
      "byteLimit": 2048000,
      "implicitDf": true,
      "rowLimit": 10000
     },
     "inputWidgets": {},
     "nuid": "1891f89d-5691-4b77-a848-f04d380c3993",
     "showTitle": false,
     "tableResultSettingsMap": {},
     "title": ""
    }
   },
   "outputs": [],
   "source": [
    "%sql\n",
    "SELECT \n",
    "cast(try_aes_decrypt(unbase64(encrypted_name), \n",
    "(SELECT * FROM (SELECT aweaver_catalog_1323553108280374.crypto.unwrap_dek(secret_name).dek AS dek FROM (SELECT 'prod/aweaver_catalog_1323553108280374/2026' AS secret_name) t)), \n",
    "'GCM', \n",
    "'DEFAULT') AS STRING) \n",
    "AS Name,\n",
    "* EXCEPT (encrypted_name)\n",
    "FROM titanic_encrypted"
   ]
  },
  {
   "cell_type": "code",
   "execution_count": 0,
   "metadata": {
    "application/vnd.databricks.v1+cell": {
     "cellMetadata": {
      "byteLimit": 2048000,
      "implicitDf": true,
      "rowLimit": 10000
     },
     "inputWidgets": {},
     "nuid": "a4d46e87-1bc9-4c80-ba1b-fa0b3d2b404e",
     "showTitle": false,
     "tableResultSettingsMap": {},
     "title": ""
    }
   },
   "outputs": [],
   "source": [
    "%sql\n",
    "SELECT \n",
    "cast(try_aes_decrypt(unbase64(encrypted_name), \n",
    "(SELECT * FROM (SELECT aweaver_catalog_1323553108280374.crypto.unwrap_dek(secret_name).dek AS dek FROM (SELECT 'prod/aweaver_catalog_1323553108280374/2026' AS secret_name) t)), \n",
    "'GCM', \n",
    "'DEFAULT') AS STRING) \n",
    "AS decrypted_name,\n",
    "* \n",
    "FROM titanic_encrypted"
   ]
  },
  {
   "cell_type": "code",
   "execution_count": 0,
   "metadata": {
    "application/vnd.databricks.v1+cell": {
     "cellMetadata": {
      "byteLimit": 2048000,
      "implicitDf": true,
      "rowLimit": 10000
     },
     "inputWidgets": {},
     "nuid": "093dc9ea-fb69-4f76-b1b7-0f2897cf105c",
     "showTitle": false,
     "tableResultSettingsMap": {},
     "title": ""
    }
   },
   "outputs": [],
   "source": [
    "%sql\n",
    "SHOW TABLES IN aweaver_catalog_1323553108280374.raw"
   ]
  },
  {
   "cell_type": "code",
   "execution_count": 0,
   "metadata": {
    "application/vnd.databricks.v1+cell": {
     "cellMetadata": {
      "byteLimit": 2048000,
      "rowLimit": 10000
     },
     "inputWidgets": {},
     "nuid": "ae91ecff-e591-4458-8eaa-f3c825593b8b",
     "showTitle": false,
     "tableResultSettingsMap": {},
     "title": ""
    }
   },
   "outputs": [],
   "source": [
    "sql(f\"\"\"CREATE OR REPLACE FUNCTION sys.crypto.encrypt(col STRING) \n",
    "RETURNS STRING\n",
    "RETURN \n",
    "    base64(aes_encrypt(col, \n",
    "    sys.crypto.unwrap_key(secret('{secret_scope}', 'dek'), '{kek_name}'),\n",
    "    'GCM',  \n",
    "    'DEFAULT',\n",
    "    sys.crypto.unwrap_key(secret('{secret_scope}', 'iv'), '{kek_name}'),\n",
    "    sys.crypto.unwrap_key(secret('{secret_scope}', 'aad'), '{kek_name}')\n",
    "    ))\"\"\")"
   ]
  },
  {
   "cell_type": "code",
   "execution_count": 0,
   "metadata": {
    "application/vnd.databricks.v1+cell": {
     "cellMetadata": {
      "byteLimit": 2048000,
      "implicitDf": true,
      "rowLimit": 10000
     },
     "inputWidgets": {},
     "nuid": "988926b8-8235-4408-bd1d-e6a85e401939",
     "showTitle": false,
     "tableResultSettingsMap": {},
     "title": ""
    }
   },
   "outputs": [],
   "source": [
    "%sql\n",
    "SELECT aweaver_catalog_1323553108280374.crypto.get_keys(secret_name).kek AS kek\n",
    "FROM (\n",
    "  SELECT 'aweaver_catalog_1323553108280374' AS secret_name\n",
    ") t"
   ]
  },
  {
   "cell_type": "code",
   "execution_count": 0,
   "metadata": {
    "application/vnd.databricks.v1+cell": {
     "cellMetadata": {
      "byteLimit": 2048000,
      "implicitDf": true,
      "rowLimit": 10000
     },
     "inputWidgets": {},
     "nuid": "01410b2d-21bb-49cc-91a6-999af748bd3d",
     "showTitle": false,
     "tableResultSettingsMap": {},
     "title": ""
    }
   },
   "outputs": [],
   "source": [
    "%sql\n",
    "SELECT aweaver_catalog_1323553108280374.crypto.get_secret(secret_name).secret_value FROM VALUES\n",
    "('aweaver/envelope_encryption') AS t(secret_name)"
   ]
  },
  {
   "cell_type": "code",
   "execution_count": 0,
   "metadata": {
    "application/vnd.databricks.v1+cell": {
     "cellMetadata": {
      "byteLimit": 2048000,
      "implicitDf": true,
      "rowLimit": 10000
     },
     "inputWidgets": {},
     "nuid": "6f29ade5-d91b-45e5-9d19-5fac2c19ce56",
     "showTitle": false,
     "tableResultSettingsMap": {},
     "title": ""
    }
   },
   "outputs": [],
   "source": [
    "%sql\n",
    "SELECT CAST(aes_decrypt(unbase64('4N0pCAsQ5F+4dG1L6apcnjyGr1dyGaPZkAeWl00THCndcP5uTE07NqK6071FaenIiaBq6gQqlZYz\\r\\nGEB/'), (SELECT aweaver_catalog_1323553108280374.crypto.get_secret(secret_name).secret_value FROM VALUES\n",
    "('aweaver/envelope_encryption') AS t(secret_name)), 'GCM', 'DEFAULT') AS STRING) AS decrypted_dek"
   ]
  },
  {
   "cell_type": "code",
   "execution_count": 0,
   "metadata": {
    "application/vnd.databricks.v1+cell": {
     "cellMetadata": {
      "byteLimit": 2048000,
      "rowLimit": 10000
     },
     "inputWidgets": {},
     "nuid": "56b15b66-7bcb-4edb-816e-af0b29eb645f",
     "showTitle": false,
     "tableResultSettingsMap": {},
     "title": ""
    }
   },
   "outputs": [],
   "source": [
    "kek = 'y3v66E8GsiDOvnpbaL4TbsBW4bkaRT3d'\n",
    "encrypted_dek = '4N0pCAsQ5F+4dG1L6apcnjyGr1dyGaPZkAeWl00THCndcP5uTE07NqK6071FaenIiaBq6gQqlZYz\\r\\nGEB/'\n",
    "decrypted_dek = sql(f\"SELECT CAST(aes_decrypt(unbase64('{encrypted_dek}'), '{kek}', 'GCM', 'DEFAULT') AS STRING)\").first()[0]\n",
    "decrypted_dek"
   ]
  },
  {
   "cell_type": "code",
   "execution_count": 0,
   "metadata": {
    "application/vnd.databricks.v1+cell": {
     "cellMetadata": {
      "byteLimit": 2048000,
      "rowLimit": 10000
     },
     "inputWidgets": {},
     "nuid": "7919b256-26fd-491d-8572-32b15b9e860f",
     "showTitle": false,
     "tableResultSettingsMap": {},
     "title": ""
    }
   },
   "outputs": [],
   "source": [
    "import boto3\n",
    "from botocore.exceptions import ClientError\n",
    "import json\n",
    "import pandas as pd\n",
    "\n",
    "boto3_session = boto3.Session(botocore_session=dbutils.credentials.getServiceCredentialsProvider('aweaver-secrets-manager'), region_name='eu-west-1')\n",
    "\n",
    "sm = boto3_session.client('secretsmanager')\n",
    "secret_name = \"aweaver_catalog_1323553108280374\"\n",
    "\n",
    "try:\n",
    "    get_secret_value_response = sm.get_secret_value(\n",
    "        SecretId=secret_name\n",
    "    )\n",
    "except ClientError as e:\n",
    "    # For a list of exceptions thrown, see\n",
    "    # https://docs.aws.amazon.com/secretsmanager/latest/apireference/API_GetSecretValue.html\n",
    "    raise e\n",
    "\n",
    "secret = json.loads(get_secret_value_response['SecretString'])\n",
    "pdf = pd.DataFrame([secret])\n",
    "display(pdf)"
   ]
  },
  {
   "cell_type": "code",
   "execution_count": 0,
   "metadata": {
    "application/vnd.databricks.v1+cell": {
     "cellMetadata": {
      "byteLimit": 2048000,
      "rowLimit": 10000
     },
     "inputWidgets": {},
     "nuid": "cddded5d-18bf-4654-9b20-78ff192b1ae6",
     "showTitle": false,
     "tableResultSettingsMap": {},
     "title": ""
    }
   },
   "outputs": [],
   "source": [
    "results = []\n",
    "kek = json.loads(get_secret_value_response['SecretString'])['kek']\n",
    "dek = json.loads(get_secret_value_response['SecretString'])['dek']\n",
    "results.append((kek, dek))\n",
    "pdf2 = pd.DataFrame(results, columns=['kek', 'dek'])\n",
    "display(pdf2)"
   ]
  },
  {
   "cell_type": "code",
   "execution_count": 0,
   "metadata": {
    "application/vnd.databricks.v1+cell": {
     "cellMetadata": {
      "byteLimit": 2048000,
      "rowLimit": 10000
     },
     "inputWidgets": {},
     "nuid": "cc509faf-32c9-416c-93f4-89bbd22d3de4",
     "showTitle": false,
     "tableResultSettingsMap": {},
     "title": ""
    }
   },
   "outputs": [],
   "source": [
    "import string\n",
    "import random\n",
    "\n",
    "dek = b64encode(urandom(24)).decode('utf-8')\n",
    "iv = ''.join(random.choices(string.ascii_uppercase + string.digits, k=12))\n",
    "aad = ''.join(random.choices(string.ascii_uppercase + string.digits, k=8))\n",
    "\n",
    "encrypted_dek = sql(f\"SELECT base64(aes_encrypt('{dek}', '{kek}', 'GCM', 'DEFAULT'))\").first()[0]\n",
    "encrypted_iv = sql(f\"SELECT base64(aes_encrypt('{iv}', '{kek}', 'GCM', 'DEFAULT'))\").first()[0]\n",
    "encrypted_aad = sql(f\"SELECT base64(aes_encrypt('{aad}', '{kek}', 'GCM', 'DEFAULT'))\").first()[0]"
   ]
  },
  {
   "cell_type": "code",
   "execution_count": 0,
   "metadata": {
    "application/vnd.databricks.v1+cell": {
     "cellMetadata": {
      "byteLimit": 2048000,
      "rowLimit": 10000
     },
     "inputWidgets": {},
     "nuid": "b2631887-02b2-4723-a9c8-91964019177d",
     "showTitle": false,
     "tableResultSettingsMap": {},
     "title": ""
    }
   },
   "outputs": [],
   "source": [
    "print(f\"dek: {dek}\\n iv: {iv}\\n aad: {aad}\")"
   ]
  },
  {
   "cell_type": "code",
   "execution_count": 0,
   "metadata": {
    "application/vnd.databricks.v1+cell": {
     "cellMetadata": {
      "byteLimit": 2048000,
      "rowLimit": 10000
     },
     "inputWidgets": {},
     "nuid": "91cab710-5d70-41b6-8a45-6637f9205775",
     "showTitle": false,
     "tableResultSettingsMap": {},
     "title": ""
    }
   },
   "outputs": [],
   "source": [
    "aes_decrypt(unbase64(key_to_unwrap), (SELECT FIRST(key) FROM sys.crypto.key_vault WHERE key_enabled AND key_name = key_to_use), 'GCM', 'DEFAULT')"
   ]
  },
  {
   "cell_type": "code",
   "execution_count": 0,
   "metadata": {
    "application/vnd.databricks.v1+cell": {
     "cellMetadata": {
      "byteLimit": 2048000,
      "rowLimit": 10000
     },
     "inputWidgets": {},
     "nuid": "1aeb5c04-103d-49df-a370-102467eaff31",
     "showTitle": false,
     "tableResultSettingsMap": {},
     "title": ""
    }
   },
   "outputs": [],
   "source": [
    "decrypted_dek = sql(f\"SELECT CAST(aes_decrypt(unbase64('{encrypted_dek}'), '{kek}', 'GCM', 'DEFAULT') AS STRING)\").first()[0]\n",
    "decrypted_dek"
   ]
  },
  {
   "cell_type": "code",
   "execution_count": 0,
   "metadata": {
    "application/vnd.databricks.v1+cell": {
     "cellMetadata": {
      "byteLimit": 2048000,
      "implicitDf": true,
      "rowLimit": 10000
     },
     "inputWidgets": {},
     "nuid": "5bfafadd-edb8-47ad-b117-8307ece6fd76",
     "showTitle": false,
     "tableResultSettingsMap": {},
     "title": ""
    }
   },
   "outputs": [],
   "source": [
    "%sql\n",
    "CREATE OR REPLACE FUNCTION aweaver_catalog_1323553108280374.crypto.unwrap_key(key_to_unwrap STRING, key_to_use STRING) \n",
    "RETURNS STRING\n",
    "RETURN aes_decrypt(unbase64(key_to_unwrap), (SELECT FIRST(key) FROM sys.crypto.key_vault WHERE key_enabled AND key_name = key_to_use), 'GCM', 'DEFAULT')"
   ]
  },
  {
   "cell_type": "code",
   "execution_count": 0,
   "metadata": {
    "application/vnd.databricks.v1+cell": {
     "cellMetadata": {
      "byteLimit": 2048000,
      "rowLimit": 10000
     },
     "inputWidgets": {},
     "nuid": "2de11a1c-0a9f-47b8-ad66-37082e3b3621",
     "showTitle": false,
     "tableResultSettingsMap": {},
     "title": ""
    }
   },
   "outputs": [],
   "source": [
    "kek_name = dbutils.widgets.get(\"kek_name\")\n",
    "\n",
    "sql(f\"\"\"CREATE OR REPLACE FUNCTION sys.crypto.encrypt(col STRING) \n",
    "RETURNS STRING\n",
    "RETURN \n",
    "    base64(aes_encrypt(col, \n",
    "    sys.crypto.unwrap_key(secret('{secret_scope}', 'dek'), '{kek_name}'),\n",
    "    'GCM',  \n",
    "    'DEFAULT',\n",
    "    sys.crypto.unwrap_key(secret('{secret_scope}', 'iv'), '{kek_name}'),\n",
    "    sys.crypto.unwrap_key(secret('{secret_scope}', 'aad'), '{kek_name}')\n",
    "    ))\"\"\")"
   ]
  },
  {
   "cell_type": "code",
   "execution_count": 0,
   "metadata": {
    "application/vnd.databricks.v1+cell": {
     "cellMetadata": {
      "byteLimit": 2048000,
      "rowLimit": 10000
     },
     "inputWidgets": {},
     "nuid": "1ab1532f-7117-4f57-9c9e-8f922e5dfcf5",
     "showTitle": false,
     "tableResultSettingsMap": {},
     "title": ""
    }
   },
   "outputs": [],
   "source": [
    "sql(f\"\"\"CREATE OR REPLACE FUNCTION sys.crypto.decrypt(col STRING) \n",
    "RETURNS STRING\n",
    "RETURN \n",
    "    CASE WHEN is_account_group_member('keyvault_user') THEN \n",
    "    nvl(CAST(try_aes_decrypt(unbase64(col), \n",
    "    sys.crypto.unwrap_key(secret('{secret_scope}', 'dek'), '{kek_name}'),\n",
    "    'GCM',  \n",
    "    'DEFAULT',\n",
    "    sys.crypto.unwrap_key(secret('{secret_scope}', 'aad'), '{kek_name}')) AS STRING), \n",
    "    col)\n",
    "    ELSE col END;\"\"\")"
   ]
  }
 ],
 "metadata": {
  "application/vnd.databricks.v1+notebook": {
   "computePreferences": null,
   "dashboards": [],
   "environmentMetadata": {
    "base_environment": "",
    "environment_version": "2"
   },
   "inputWidgetPreferences": null,
   "language": "python",
   "notebookMetadata": {
    "mostRecentlyExecutedCommandWithImplicitDF": {
     "commandId": 5637819258201321,
     "dataframes": [
      "_sqldf"
     ]
    },
    "pythonIndentUnit": 4
   },
   "notebookName": "admin_setup",
   "widgets": {}
  },
  "language_info": {
   "name": "python"
  }
 },
 "nbformat": 4,
 "nbformat_minor": 0
}
