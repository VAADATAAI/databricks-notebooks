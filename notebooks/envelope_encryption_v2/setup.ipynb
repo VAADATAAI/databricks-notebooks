{
 "cells": [
  {
   "cell_type": "code",
   "execution_count": 0,
   "metadata": {
    "application/vnd.databricks.v1+cell": {
     "cellMetadata": {
      "byteLimit": 2048000,
      "rowLimit": 10000
     },
     "inputWidgets": {},
     "nuid": "ff9cd2a0-d6c6-4e68-9cde-50f00d48586d",
     "showTitle": false,
     "tableResultSettingsMap": {},
     "title": ""
    }
   },
   "outputs": [],
   "source": [
    "%pip install -r requirements.txt"
   ]
  },
  {
   "cell_type": "code",
   "execution_count": 0,
   "metadata": {
    "application/vnd.databricks.v1+cell": {
     "cellMetadata": {
      "byteLimit": 2048000,
      "rowLimit": 10000
     },
     "inputWidgets": {},
     "nuid": "45728807-f4b7-4b1c-afde-3c7e182cc859",
     "showTitle": false,
     "tableResultSettingsMap": {},
     "title": ""
    }
   },
   "outputs": [],
   "source": [
    "dbutils.widgets.dropdown(\"create_aws_secret\", defaultValue=\"True\", choices=[\"True\", \"False\"])\n",
    "dbutils.widgets.text(\"dek_name\", defaultValue=\"\")\n",
    "dbutils.widgets.text(\"region\", defaultValue=\"eu-west-1\")\n",
    "dbutils.widgets.text(\"secret_name\", defaultValue=\"\")\n",
    "dbutils.widgets.text(\"uc_service_credential\", defaultValue=\"\")"
   ]
  },
  {
   "cell_type": "code",
   "execution_count": 0,
   "metadata": {
    "application/vnd.databricks.v1+cell": {
     "cellMetadata": {
      "byteLimit": 2048000,
      "rowLimit": 10000
     },
     "inputWidgets": {},
     "nuid": "bba128fc-91e7-45ce-955e-37b7376cd29f",
     "showTitle": false,
     "tableResultSettingsMap": {},
     "title": ""
    }
   },
   "outputs": [],
   "source": [
    "crypto_functions = dbutils.import_notebook(\"notebooks.envelope_encryption_v2.common.crypto_functions\")\n",
    "\n",
    "kek = crypto_functions.generate_kek()\n",
    "dek = crypto_functions.generate_dek()\n",
    "encrypted_dek = crypto_functions.encrypt_with_kek(\n",
    "    kek_password=kek.get(\"kek_password\"), \n",
    "    kek_salt=kek.get(\"kek_salt\"), \n",
    "    to_encrypt=dek.get(\"private_key\"))\n",
    "encrypted_dek[\"dek\"] = encrypted_dek.get(\"encrypted_string\")\n",
    "del dek[\"private_key\"]\n",
    "del encrypted_dek[\"encrypted_string\"]\n",
    "secret = encrypted_dek | dek\n",
    "\n",
    "dek_name = dbutils.widgets.get(\"dek_name\")\n",
    "\n",
    "if dek_name != \"\":\n",
    "    updated_secret = {f\"{dek_name}_{k}\": v for k, v in secret.items()}\n",
    "    secret = updated_secret"
   ]
  },
  {
   "cell_type": "code",
   "execution_count": 0,
   "metadata": {
    "application/vnd.databricks.v1+cell": {
     "cellMetadata": {
      "byteLimit": 2048000,
      "rowLimit": 10000
     },
     "inputWidgets": {},
     "nuid": "cce5dfd6-2017-4a3d-916c-c41962a1e2bf",
     "showTitle": false,
     "tableResultSettingsMap": {},
     "title": ""
    }
   },
   "outputs": [],
   "source": [
    "import json \n",
    "import boto3\n",
    "\n",
    "if eval(dbutils.widgets.get(\"create_aws_secret\")):\n",
    "\n",
    "    secret_string = json.dumps(kek | secret)\n",
    "\n",
    "    boto3_session = boto3.Session(botocore_session=dbutils.credentials.getServiceCredentialsProvider(dbutils.widgets.get(\"uc_service_credential\")), region_name=dbutils.widgets.get(\"region\"))\n",
    "    secret = crypto_functions.create_aws_secret(\n",
    "        session=boto3_session, \n",
    "        secret_name=dbutils.widgets.get(\"secret_name\"), \n",
    "        secret_description=\"KEK and encrypted DEKs\", \n",
    "        secret_string=secret_string, \n",
    "        tags=[], \n",
    "        kms_key=\"alias/aws/secretsmanager\")\n",
    "    print(f\"Successfully created secret in AWS!\\nName: {secret.get('Name')}\\nARN: {secret.get('ARN')}\\nVersion: {secret.get('VersionId')}\")"
   ]
  },
  {
   "cell_type": "code",
   "execution_count": 0,
   "metadata": {
    "application/vnd.databricks.v1+cell": {
     "cellMetadata": {
      "byteLimit": 2048000,
      "implicitDf": true,
      "rowLimit": 10000
     },
     "inputWidgets": {},
     "nuid": "2e43f954-c6c5-483b-ad08-457d23577575",
     "showTitle": false,
     "tableResultSettingsMap": {},
     "title": ""
    }
   },
   "outputs": [],
   "source": [
    "%sql\n",
    "SELECT current_catalog()"
   ]
  },
  {
   "cell_type": "code",
   "execution_count": 0,
   "metadata": {
    "application/vnd.databricks.v1+cell": {
     "cellMetadata": {
      "byteLimit": 2048000,
      "implicitDf": true,
      "rowLimit": 10000
     },
     "inputWidgets": {},
     "nuid": "7642ddc3-db5a-4250-af4c-06cf782ddbf5",
     "showTitle": false,
     "tableResultSettingsMap": {},
     "title": ""
    }
   },
   "outputs": [],
   "source": [
    "%sql\n",
    "CREATE SCHEMA IF NOT EXISTS crypto"
   ]
  },
  {
   "cell_type": "code",
   "execution_count": 0,
   "metadata": {
    "application/vnd.databricks.v1+cell": {
     "cellMetadata": {
      "byteLimit": 2048000,
      "implicitDf": true,
      "rowLimit": 10000
     },
     "inputWidgets": {},
     "nuid": "c9016444-a976-4752-b144-1a627b65b29d",
     "showTitle": false,
     "tableResultSettingsMap": {},
     "title": ""
    }
   },
   "outputs": [],
   "source": [
    "%sql\n",
    "USE SCHEMA crypto"
   ]
  },
  {
   "cell_type": "code",
   "execution_count": 0,
   "metadata": {
    "application/vnd.databricks.v1+cell": {
     "cellMetadata": {
      "byteLimit": 2048000,
      "rowLimit": 10000
     },
     "inputWidgets": {},
     "nuid": "f196d389-b75d-4643-b0b5-8c381cbf99e5",
     "showTitle": false,
     "tableResultSettingsMap": {},
     "title": ""
    }
   },
   "outputs": [],
   "source": [
    "import boto3\n",
    "from botocore.exceptions import ClientError\n",
    "import json\n",
    "import pandas as pd\n",
    "\n",
    "boto3_session = boto3.Session(\n",
    "    botocore_session=dbutils.credentials.getServiceCredentialsProvider('aweaver-secrets-manager'), \n",
    "    region_name='eu-west-1'\n",
    ")\n",
    "\n",
    "sm = boto3_session.client('secretsmanager')\n",
    "secret_name = \"prod/aweaver_catalog_1323553108280374/2026\"\n",
    "\n",
    "try:\n",
    "    get_secret_value_response = sm.get_secret_value(\n",
    "        SecretId=secret_name\n",
    "    )\n",
    "except ClientError as e:\n",
    "    # For a list of exceptions thrown, see\n",
    "    # https://docs.aws.amazon.com/secretsmanager/latest/apireference/API_GetSecretValue.html\n",
    "    raise e\n",
    "\n",
    "secret = json.loads(get_secret_value_response['SecretString'])\n",
    "secret"
   ]
  },
  {
   "cell_type": "code",
   "execution_count": 0,
   "metadata": {
    "application/vnd.databricks.v1+cell": {
     "cellMetadata": {
      "byteLimit": 2048000,
      "rowLimit": 10000
     },
     "inputWidgets": {},
     "nuid": "9a7ff2d5-1d94-4e83-8fbe-ed40c219b695",
     "showTitle": false,
     "tableResultSettingsMap": {},
     "title": ""
    }
   },
   "outputs": [],
   "source": [
    "pdf = pd.DataFrame([secret], columns = [\"kek_password\", \"kek_salt\", \"dek\", \"dek_nonce\", \"dek_tag\", \"iv\", \"aad\"])\n",
    "pdf"
   ]
  },
  {
   "cell_type": "code",
   "execution_count": 0,
   "metadata": {
    "application/vnd.databricks.v1+cell": {
     "cellMetadata": {
      "byteLimit": 2048000,
      "rowLimit": 10000
     },
     "inputWidgets": {},
     "nuid": "c0671789-5d9e-4f42-927f-ec95273b56ae",
     "showTitle": false,
     "tableResultSettingsMap": {},
     "title": ""
    }
   },
   "outputs": [],
   "source": []
  },
  {
   "cell_type": "code",
   "execution_count": 0,
   "metadata": {
    "application/vnd.databricks.v1+cell": {
     "cellMetadata": {
      "byteLimit": 2048000,
      "implicitDf": true,
      "rowLimit": 10000
     },
     "inputWidgets": {},
     "nuid": "a77f1568-0e38-44da-b4c4-43017be4a03e",
     "showTitle": false,
     "tableResultSettingsMap": {},
     "title": ""
    }
   },
   "outputs": [],
   "source": [
    "%sql\n",
    "CREATE OR REPLACE FUNCTION aweaver_catalog_1323553108280374.crypto.unwrap_dek(secret_name STRING, dek_name STRING) \n",
    "RETURNS STRUCT<dek: STRING, iv: STRING, aad: STRING>\n",
    "LANGUAGE PYTHON\n",
    "PARAMETER STYLE PANDAS\n",
    "HANDLER 'batchhandler'\n",
    "CREDENTIALS (\n",
    "  `aweaver-secrets-manager` DEFAULT\n",
    ")\n",
    "ENVIRONMENT (\n",
    "  dependencies = '[\"pycryptodome==3.22.0\"]',\n",
    "  environment_version = 'None'\n",
    ")\n",
    "AS $$\n",
    "import boto3\n",
    "from pyspark.taskcontext import TaskContext\n",
    "from botocore.exceptions import ClientError\n",
    "from Crypto.Cipher import AES\n",
    "from Crypto.Protocol.KDF import scrypt\n",
    "import base64\n",
    "from typing import Iterator\n",
    "import json\n",
    "import pandas as pd\n",
    "\n",
    "def setup_session():\n",
    "\n",
    "  session = boto3.Session()\n",
    "  region = TaskContext.get().getLocalProperty(\"spark.databricks.clusterUsageTags.region\")\n",
    "  client = session.client(\"secretsmanager\", region_name=region)\n",
    "  return client\n",
    "\n",
    "def decrypt_with_kek(kek_password, kek_salt, dek, nonce, tag):\n",
    "\n",
    "  salt = base64.b64decode(kek_salt)\n",
    "  kek = scrypt(kek_password, salt, key_len=32, N=2**17, r=8, p=1)\n",
    "  cipher = AES.new(kek, AES.MODE_GCM, nonce=base64.b64decode(nonce))\n",
    "  decrypted = cipher.decrypt(base64.b64decode(dek))\n",
    "  try:\n",
    "    cipher.verify(base64.b64decode(tag))\n",
    "  except ValueError as e:\n",
    "    raise e\n",
    "  return decrypted.decode('utf-8')\n",
    "\n",
    "client = setup_session()\n",
    "\n",
    "def batchhandler(batch_iter: Iterator[pd.Series]) -> Iterator[pd.DataFrame]:\n",
    "\n",
    "  results = []\n",
    "  for s in batch_iter:\n",
    "    try:\n",
    "      response = client.get_secret_value(SecretId=s[0])\n",
    "      secret = json.loads(response['SecretString'])\n",
    "    except ClientError as e:\n",
    "      raise e\n",
    "    \n",
    "    secret[\"dek\"] = decrypt_with_kek(\n",
    "      kek_password=secret[\"kek_password\"], \n",
    "      kek_salt=secret[\"kek_salt\"], \n",
    "      dek=secret[\"dek\"], \n",
    "      nonce=secret[\"dek_nonce\"], \n",
    "      tag=secret[\"dek_tag\"])\n",
    "    results.append(secret)\n",
    "  \n",
    "  yield pd.DataFrame(results, columns=['dek', 'iv', 'aad'])\n",
    "$$;"
   ]
  },
  {
   "cell_type": "code",
   "execution_count": 0,
   "metadata": {
    "application/vnd.databricks.v1+cell": {
     "cellMetadata": {
      "byteLimit": 2048000,
      "implicitDf": true,
      "rowLimit": 10000
     },
     "inputWidgets": {},
     "nuid": "e71003a8-6041-47eb-b929-718d94e58e4b",
     "showTitle": false,
     "tableResultSettingsMap": {},
     "title": ""
    }
   },
   "outputs": [],
   "source": [
    "%sql\n",
    "SELECT aweaver_catalog_1323553108280374.crypto.unwrap_dek(secret_name, dek_name)\n",
    "FROM VALUES\n",
    "('prod/aweaver_catalog_1323553108280374/2026', 'titanic'),\n",
    "('prod/aweaver_catalog_1323553108280374/2026', 'titanic')\n",
    "AS t(secret_name, dek_name)"
   ]
  },
  {
   "cell_type": "code",
   "execution_count": 0,
   "metadata": {
    "application/vnd.databricks.v1+cell": {
     "cellMetadata": {
      "byteLimit": 2048000,
      "implicitDf": true,
      "rowLimit": 10000
     },
     "inputWidgets": {},
     "nuid": "249bf1d2-736a-41f4-9a75-e1284518e264",
     "showTitle": false,
     "tableResultSettingsMap": {},
     "title": ""
    }
   },
   "outputs": [],
   "source": [
    "%sql\n",
    "SELECT * FROM (SELECT aweaver_catalog_1323553108280374.crypto.unwrap_dek(secret_name)\n",
    "FROM (\n",
    "  SELECT 'prod/aweaver_catalog_1323553108280374/2026' AS secret_name\n",
    ") t)"
   ]
  },
  {
   "cell_type": "code",
   "execution_count": 0,
   "metadata": {
    "application/vnd.databricks.v1+cell": {
     "cellMetadata": {
      "byteLimit": 2048000,
      "rowLimit": 10000
     },
     "inputWidgets": {},
     "nuid": "ef231a9e-d79b-4a59-a3f8-73d4277081a5",
     "showTitle": false,
     "tableResultSettingsMap": {},
     "title": ""
    }
   },
   "outputs": [],
   "source": [
    "#pd.Series(response['SecretString'])"
   ]
  },
  {
   "cell_type": "code",
   "execution_count": 0,
   "metadata": {
    "application/vnd.databricks.v1+cell": {
     "cellMetadata": {
      "byteLimit": 2048000,
      "implicitDf": true,
      "rowLimit": 10000
     },
     "inputWidgets": {},
     "nuid": "230f0680-bfe5-455d-89c9-9e1756f657f3",
     "showTitle": false,
     "tableResultSettingsMap": {},
     "title": ""
    }
   },
   "outputs": [],
   "source": [
    "%sql\n",
    "SELECT * FROM (SELECT aweaver_catalog_1323553108280374.crypto.unwrap_dek(secret_name, dek_name)\n",
    "FROM (\n",
    "  SELECT 'testing/aweaver_catalog_1323553108280374/2026' AS secret_name, 'titanic' AS dek_name\n",
    ") t)"
   ]
  },
  {
   "cell_type": "code",
   "execution_count": 0,
   "metadata": {
    "application/vnd.databricks.v1+cell": {
     "cellMetadata": {
      "byteLimit": 2048000,
      "rowLimit": 10000
     },
     "inputWidgets": {},
     "nuid": "f68c1f68-6627-4cd0-b88a-b84f42003cdc",
     "showTitle": false,
     "tableResultSettingsMap": {},
     "title": ""
    }
   },
   "outputs": [],
   "source": [
    "# kek_password\n",
    "# kek_salt\n",
    "# titanic_nonce\n",
    "# titanic_tag\n",
    "# titanic_dek\n",
    "# titanic_iv\n",
    "# titanic_aad"
   ]
  }
 ],
 "metadata": {
  "application/vnd.databricks.v1+notebook": {
   "computePreferences": null,
   "dashboards": [],
   "environmentMetadata": {
    "base_environment": "",
    "environment_version": "2"
   },
   "inputWidgetPreferences": null,
   "language": "python",
   "notebookMetadata": {
    "mostRecentlyExecutedCommandWithImplicitDF": {
     "commandId": 4549003009193506,
     "dataframes": [
      "_sqldf"
     ]
    },
    "pythonIndentUnit": 4
   },
   "notebookName": "setup",
   "widgets": {
    "create_aws_secret": {
     "currentValue": "False",
     "nuid": "32eff87b-8be8-4748-9f67-1eb66b0b2745",
     "typedWidgetInfo": {
      "autoCreated": false,
      "defaultValue": "True",
      "label": null,
      "name": "create_aws_secret",
      "options": {
       "widgetDisplayType": "Dropdown",
       "choices": [
        "True",
        "False"
       ],
       "fixedDomain": true,
       "multiselect": false
      },
      "parameterDataType": "String"
     },
     "widgetInfo": {
      "widgetType": "dropdown",
      "defaultValue": "True",
      "label": null,
      "name": "create_aws_secret",
      "options": {
       "widgetType": "dropdown",
       "autoCreated": null,
       "choices": [
        "True",
        "False"
       ]
      }
     }
    },
    "dek_name": {
     "currentValue": "titanic",
     "nuid": "a6d010ca-658b-4760-aab1-439e41dd2c04",
     "typedWidgetInfo": {
      "autoCreated": false,
      "defaultValue": "",
      "label": null,
      "name": "dek_name",
      "options": {
       "widgetDisplayType": "Text",
       "validationRegex": null
      },
      "parameterDataType": "String"
     },
     "widgetInfo": {
      "widgetType": "text",
      "defaultValue": "",
      "label": null,
      "name": "dek_name",
      "options": {
       "widgetType": "text",
       "autoCreated": null,
       "validationRegex": null
      }
     }
    },
    "region": {
     "currentValue": "eu-west-1",
     "nuid": "503e2caf-f899-4d28-a5cd-cafcfb4a3243",
     "typedWidgetInfo": {
      "autoCreated": false,
      "defaultValue": "eu-west-1",
      "label": null,
      "name": "region",
      "options": {
       "widgetDisplayType": "Text",
       "validationRegex": null
      },
      "parameterDataType": "String"
     },
     "widgetInfo": {
      "widgetType": "text",
      "defaultValue": "eu-west-1",
      "label": null,
      "name": "region",
      "options": {
       "widgetType": "text",
       "autoCreated": null,
       "validationRegex": null
      }
     }
    },
    "secret_name": {
     "currentValue": "nonprod/aweaver_catalog_1323553108280374/2026",
     "nuid": "f71997b9-0105-4323-af42-aad6f84a6bca",
     "typedWidgetInfo": {
      "autoCreated": false,
      "defaultValue": "",
      "label": null,
      "name": "secret_name",
      "options": {
       "widgetDisplayType": "Text",
       "validationRegex": null
      },
      "parameterDataType": "String"
     },
     "widgetInfo": {
      "widgetType": "text",
      "defaultValue": "",
      "label": null,
      "name": "secret_name",
      "options": {
       "widgetType": "text",
       "autoCreated": null,
       "validationRegex": null
      }
     }
    },
    "uc_service_credential": {
     "currentValue": "aweaver-secrets-manager",
     "nuid": "d811bfe1-e5e9-46f0-be15-af877e20f63d",
     "typedWidgetInfo": {
      "autoCreated": false,
      "defaultValue": "",
      "label": null,
      "name": "uc_service_credential",
      "options": {
       "widgetDisplayType": "Text",
       "validationRegex": null
      },
      "parameterDataType": "String"
     },
     "widgetInfo": {
      "widgetType": "text",
      "defaultValue": "",
      "label": null,
      "name": "uc_service_credential",
      "options": {
       "widgetType": "text",
       "autoCreated": null,
       "validationRegex": null
      }
     }
    }
   }
  },
  "language_info": {
   "name": "python"
  }
 },
 "nbformat": 4,
 "nbformat_minor": 0
}
